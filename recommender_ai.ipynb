{
  "nbformat": 4,
  "nbformat_minor": 0,
  "metadata": {
    "colab": {
      "name": "recommender_ai.ipynb",
      "provenance": [],
      "collapsed_sections": [
        "AWZUqojfAYLh",
        "Upf233GnAgow",
        "RatMKkCTAj54",
        "tiy8izY5Rr9L"
      ]
    },
    "kernelspec": {
      "display_name": "Python 3",
      "name": "python3"
    }
  },
  "cells": [
    {
      "cell_type": "code",
      "metadata": {
        "id": "qZ1U7CCi6fdA"
      },
      "source": [
        "!pip install -Uqq fastbook\n",
        "import fastbook\n",
        "fastbook.setup_book()"
      ],
      "execution_count": null,
      "outputs": []
    },
    {
      "cell_type": "code",
      "metadata": {
        "id": "9Pi_B0v6k89K"
      },
      "source": [
        "from fastbook import *"
      ],
      "execution_count": null,
      "outputs": []
    },
    {
      "cell_type": "code",
      "metadata": {
        "id": "EHvDt1yHQTGM"
      },
      "source": [
        "import requests\n",
        "import pandas as pd\n",
        "import json as json\n",
        "import numpy as np\n",
        "import matplotlib.pyplot as plt\n",
        "from mpl_toolkits import mplot3d\n",
        "import scipy.spatial\n",
        "from collections import Counter\n",
        "\n",
        "import math\n",
        "import random\n",
        "\n",
        "from sklearn.metrics.pairwise import linear_kernel\n",
        "from sklearn.metrics.pairwise import cosine_similarity\n",
        "from sklearn.metrics import pairwise_distances\n",
        "from sklearn.metrics.pairwise import pairwise_kernels\n",
        "\n",
        "from scipy.spatial import distance\n",
        "\n",
        "from sklearn.model_selection import train_test_split\n",
        "from sklearn.neighbors import KNeighborsClassifier\n",
        "from sklearn.neighbors import KNeighborsRegressor\n",
        "from sklearn.preprocessing import StandardScaler\n",
        "from sklearn.feature_extraction.text import TfidfVectorizer\n",
        "from sklearn.feature_extraction.text import CountVectorizer\n",
        "\n",
        "from sklearn import metrics\n",
        "\n",
        "import collections"
      ],
      "execution_count": null,
      "outputs": []
    },
    {
      "cell_type": "markdown",
      "metadata": {
        "id": "3967aGepqAyW"
      },
      "source": [
        "# Preprocessing\n"
      ]
    },
    {
      "cell_type": "markdown",
      "metadata": {
        "id": "y5n6mSLfP8hT"
      },
      "source": [
        "## Read the million playlist dataset\n",
        "\n",
        "In order to read the .json file with 1000 playlist, we use the python built-in module **open(file, 'r')**. We declare 4 methods, so that we can gather the data we want to:\n",
        "\n",
        "*   **getTracksOfAllPlaylists** in order to get all Tracks of all Playlists or a specific amount of playlist tracks\n",
        "*   **getTracksOfPlaylist** in order to get all Tracks of a Playlist\n",
        "*   **getIdOfTracksOfAllPlaylists** in order to get Tracks with a specific Id of each playlist\n",
        "*   **getTracksOfAllPlaylistsAndMine** gets one playlists, which is \"your\" playlist and k other playlists\n",
        "\n",
        "\n",
        "\n",
        "\n"
      ]
    },
    {
      "cell_type": "code",
      "metadata": {
        "id": "0EodXtntwTfP"
      },
      "source": [
        "with open('/content/gdrive/MyDrive/Schule/Diplomarbeit/mpd.slice.0-999.json', 'r') as file:\n",
        "  data = file.read()\n",
        "\n",
        "dataset = json.loads(data)\n",
        "\n",
        "def getTracksOfAllPlaylists(amount):\n",
        "  if amount is None:\n",
        "    amount = 1000\n",
        "  temp = 0\n",
        "  trackList = []\n",
        "  for playlist in dataset['playlists']:\n",
        "    if amount < temp:\n",
        "       return trackList\n",
        "    else:\n",
        "      for track in playlist['tracks']:\n",
        "        trackList.append(track)\n",
        "    temp = temp + 1\n",
        "  return trackList\n",
        "\n",
        "def getTracksOfPlaylist(pid):\n",
        "  trackList = []\n",
        "  for playlist in dataset['playlists']:\n",
        "    if playlist['pid'] == pid:\n",
        "      trackList = (playlist['tracks'])\n",
        "  return trackList\n",
        "  \n",
        "def getIdOfTrackOfAllPlaylists(pos):\n",
        "  trackList = []\n",
        "  for playlist in dataset['playlists']:\n",
        "    trackList = (playlist['tracks'][pos])\n",
        "  return trackList\n",
        "\n",
        "def getTracksOfAllPlaylistsAndMine(pid, k_items):\n",
        "  storedTracksList = []\n",
        "  notStoredTracksList = []\n",
        "  temp = 0\n",
        "  storedTracksList = getTracksOfPlaylist(pid)\n",
        "  for playlist in dataset['playlists']:\n",
        "    if k_items < temp:\n",
        "      return storedTracksList, notStoredTracksList\n",
        "    elif playlist['pid'] != pid:\n",
        "      for track in playlist['tracks']:\n",
        "        notStoredTracksList.append(track)\n",
        "    temp = temp + 1\n",
        "  return storedTracksList, notStoredTracksList"
      ],
      "execution_count": null,
      "outputs": []
    },
    {
      "cell_type": "markdown",
      "metadata": {
        "id": "gvOg7TOs5L7e"
      },
      "source": [
        "## Prepare Pandas for general info"
      ]
    },
    {
      "cell_type": "markdown",
      "metadata": {
        "id": "eHdQLhqwPHRp"
      },
      "source": [
        "We get tracks from a playlist and store the important information in lists. Only *track_uri*, *track_name* and *artist_name* is relevant. We append them in seperate lists and create a Dictionary out of these lists afterwards. After this, we create a pandas DataFrame out of these dictionarys to vizualize the read data."
      ]
    },
    {
      "cell_type": "code",
      "metadata": {
        "id": "6EmIkVCCCwgl"
      },
      "source": [
        "storedTracksList = []\n",
        "notStoredTracksList = []\n",
        "\n",
        "#edm -> 631\n",
        "#christmas -> 255\n",
        "\n",
        "def prepareAllAndMine(pid, k_items):\n",
        "  storedTracksList, notStoredTracksList = getTracksOfAllPlaylistsAndMine(pid, k_items)\n",
        "  storedTracksDict = load(storedTracksList)\n",
        "  notStoredTracksDict = load(notStoredTracksList)\n",
        "  return storedTracksDict, notStoredTracksDict\n",
        "\n",
        "def prepareAll():\n",
        "  notStoredTracksList = getTracksOfAllPlaylists(1000)\n",
        "  notStoredTracksDict = load(notStoredTracksList)\n",
        "  return notStoredTracksDict\n",
        "\n",
        "def load(trackList):\n",
        "  trackIds = []\n",
        "  trackNames = []\n",
        "  artistNames = []\n",
        "\n",
        "  for track in trackList:\n",
        "    trackIds.append(track['track_uri'].split(\":\")[2])\n",
        "    trackNames.append(track['track_name'])\n",
        "    artistNames.append(track['artist_name'])\n",
        "\n",
        "  return {\"id\": trackIds, \"track_name\": trackNames, \"artist_name\": artistNames}"
      ],
      "execution_count": null,
      "outputs": []
    },
    {
      "cell_type": "code",
      "metadata": {
        "colab": {
          "base_uri": "https://localhost:8080/"
        },
        "id": "uN9ikjZtINQh",
        "outputId": "f07bfd88-e7f1-4b41-a101-6f455fbdb6af"
      },
      "source": [
        "notStoredTracksDict = prepareAll()\n",
        "print(notStoredTracksDict)"
      ],
      "execution_count": null,
      "outputs": [
        {
          "output_type": "stream",
          "text": [
            "IOPub data rate exceeded.\n",
            "The notebook server will temporarily stop sending output\n",
            "to the client in order to avoid crashing it.\n",
            "To change this limit, set the config variable\n",
            "`--NotebookApp.iopub_data_rate_limit`.\n",
            "\n",
            "Current values:\n",
            "NotebookApp.iopub_data_rate_limit=1000000.0 (bytes/sec)\n",
            "NotebookApp.rate_limit_window=3.0 (secs)\n",
            "\n"
          ],
          "name": "stderr"
        }
      ]
    },
    {
      "cell_type": "markdown",
      "metadata": {
        "id": "ye8Ke65ULyrn"
      },
      "source": [
        "a playlist, which we want to recommend some tracks:"
      ]
    },
    {
      "cell_type": "markdown",
      "metadata": {
        "id": "RNTUXakM5iMH"
      },
      "source": [
        "### A selfmade playlist we want to analyse"
      ]
    },
    {
      "cell_type": "code",
      "metadata": {
        "id": "y2xtEqHhlRMZ"
      },
      "source": [
        "storedTracksIds = ['0uhJG7qeBA6obJRTGotNhX'\n",
        "                   '3B54sVLJ402zGa6Xm4YGNe', \n",
        "                   '7hxHWCCAIIxFLCzvDgnQHX', \n",
        "                   '7xQAfvXzm3AkraOtGPWIZg', \n",
        "                   '7MJQ9Nfxzh8LPZ9e9u68Fq', \n",
        "                   '7Ie9W94M7OjPoZVV216Xus',\n",
        "                   '3Ofmpyhv5UAQ70mENzB277',\n",
        "                   '3I3WY0C7AQMe6Z6hMUQqd5',\n",
        "                   '2eMqU82D3OleCi2SulF2Og',\n",
        "                   '3pJnfyKoVePwVmljB6Wun1',\n",
        "                   '6DCZcSspjsKoFjzjrWoCdn']"
      ],
      "execution_count": null,
      "outputs": []
    },
    {
      "cell_type": "code",
      "metadata": {
        "id": "DacsXcGZ2Luq"
      },
      "source": [
        "storedTracksIdsGet = \",\".join(storedTracksIds)"
      ],
      "execution_count": null,
      "outputs": []
    },
    {
      "cell_type": "markdown",
      "metadata": {
        "id": "YrLsjgG-Ksbh"
      },
      "source": [
        "In order to send an API-Request, get a Bearer token from the Spotify Developer site. API-Token: https://developer.spotify.com/console/get-audio-features-track/?id=06AKEBrKUckW0KREUWRnvT"
      ]
    },
    {
      "cell_type": "code",
      "metadata": {
        "id": "MdPZFh3FhWYe"
      },
      "source": [
        "token = \"BQCIS-TUA0MaQFG8oUivjdrxt2F6f5EWvn8gHG3CQumNW6V5lbgHqYzxIvnZ2exwb-GHIkjWdASy10CWYwLylkPesNjDQAUJYtyxkEaDJEneGXepYeA28GogIq3-N6Ct-pCQI1kRyfBJd9LSLWJQjUhIVOyaSEMkP__lBU-pMb-Cvw5uHrdZBEHmkJFuFzaGntZxKd6dM9c\""
      ],
      "execution_count": null,
      "outputs": []
    },
    {
      "cell_type": "code",
      "metadata": {
        "id": "4BdTsGowYsdJ"
      },
      "source": [
        "def getTrackInformation(idsList):\n",
        "  url = f\"https://api.spotify.com/v1/tracks/?ids={idsList}\"\n",
        "  r = requests.get(url, headers = {'Accept':'application/json', 'Content-Type':'application/json', 'Authorization':f'Bearer {token}'})\n",
        "  features = r.json()\n",
        "\n",
        "  trackIds = []\n",
        "  trackNames = []\n",
        "  artistNames = []\n",
        "  \n",
        "  for album in features['tracks']:\n",
        "    trackIds.append(album['id'])\n",
        "    trackNames.append(album['name'])\n",
        "    artistNames.append(album['album']['artists'][0]['name'])\n",
        "  print(trackIds)\n",
        "\n",
        "  return {\"id\": trackIds, \"track_name\": trackNames, \"artist_name\": artistNames}"
      ],
      "execution_count": null,
      "outputs": []
    },
    {
      "cell_type": "code",
      "metadata": {
        "id": "uX44YPjNZFfZ",
        "colab": {
          "base_uri": "https://localhost:8080/"
        },
        "outputId": "b58912aa-9824-48cb-bfba-33d141b0fcef"
      },
      "source": [
        "storedTracksDict = getTrackInformation(storedTracksIdsGet)\n",
        "storedTracksDict"
      ],
      "execution_count": null,
      "outputs": [
        {
          "output_type": "stream",
          "text": [
            "['0uhJG7qeBA6obJRTGotNhX']\n"
          ],
          "name": "stdout"
        },
        {
          "output_type": "execute_result",
          "data": {
            "text/plain": [
              "{'artist_name': ['Je$$e'],\n",
              " 'id': ['0uhJG7qeBA6obJRTGotNhX'],\n",
              " 'track_name': ['Barbie']}"
            ]
          },
          "metadata": {
            "tags": []
          },
          "execution_count": 14
        }
      ]
    },
    {
      "cell_type": "markdown",
      "metadata": {
        "id": "oHCXXRrK3o5O"
      },
      "source": [
        "Setting pd.set_options to *display.max_rows* allows us to see the complete pandas data frame."
      ]
    },
    {
      "cell_type": "code",
      "metadata": {
        "id": "B4X9JNnkJKkP"
      },
      "source": [
        "def make_dataframe(storedTracksDict, notStoredTracksDict):\n",
        "  pd.set_option('display.max_rows', None)\n",
        "  df_storedTracks = pd.DataFrame(storedTracksDict)\n",
        "  df_notStoredTracks = pd.DataFrame(notStoredTracksDict)\n",
        "  return df_storedTracks, df_notStoredTracks\n",
        "\n",
        "df_storedTracks, df_notStoredTracks = make_dataframe(storedTracksDict, notStoredTracksDict)"
      ],
      "execution_count": null,
      "outputs": []
    },
    {
      "cell_type": "code",
      "metadata": {
        "colab": {
          "base_uri": "https://localhost:8080/"
        },
        "id": "kwvfItC5kaCX",
        "outputId": "b35c56ec-bbf8-4a2f-b361-c91e95c7d2b7"
      },
      "source": [
        "df_notStoredTracks.shape"
      ],
      "execution_count": null,
      "outputs": [
        {
          "output_type": "execute_result",
          "data": {
            "text/plain": [
              "(67503, 3)"
            ]
          },
          "metadata": {
            "tags": []
          },
          "execution_count": 148
        }
      ]
    },
    {
      "cell_type": "code",
      "metadata": {
        "colab": {
          "base_uri": "https://localhost:8080/"
        },
        "id": "1E3KWRRscmIe",
        "outputId": "5d31479a-fecb-42d3-d1dc-1eb73c1e99b5"
      },
      "source": [
        "df_storedTracks.shape"
      ],
      "execution_count": null,
      "outputs": [
        {
          "output_type": "execute_result",
          "data": {
            "text/plain": [
              "(9, 3)"
            ]
          },
          "metadata": {
            "tags": []
          },
          "execution_count": 149
        }
      ]
    },
    {
      "cell_type": "code",
      "metadata": {
        "colab": {
          "base_uri": "https://localhost:8080/",
          "height": 204
        },
        "id": "jCOVq2VfJJ63",
        "outputId": "8c1a8146-53be-46a9-fdad-1d483b82c592"
      },
      "source": [
        "df_notStoredTracks.head()"
      ],
      "execution_count": null,
      "outputs": [
        {
          "output_type": "execute_result",
          "data": {
            "text/html": [
              "<div>\n",
              "<style scoped>\n",
              "    .dataframe tbody tr th:only-of-type {\n",
              "        vertical-align: middle;\n",
              "    }\n",
              "\n",
              "    .dataframe tbody tr th {\n",
              "        vertical-align: top;\n",
              "    }\n",
              "\n",
              "    .dataframe thead th {\n",
              "        text-align: right;\n",
              "    }\n",
              "</style>\n",
              "<table border=\"1\" class=\"dataframe\">\n",
              "  <thead>\n",
              "    <tr style=\"text-align: right;\">\n",
              "      <th></th>\n",
              "      <th>id</th>\n",
              "      <th>track_name</th>\n",
              "      <th>artist_name</th>\n",
              "    </tr>\n",
              "  </thead>\n",
              "  <tbody>\n",
              "    <tr>\n",
              "      <th>0</th>\n",
              "      <td>0UaMYEvWZi0ZqiDOoHU3YI</td>\n",
              "      <td>Lose Control (feat. Ciara &amp; Fat Man Scoop)</td>\n",
              "      <td>Missy Elliott</td>\n",
              "    </tr>\n",
              "    <tr>\n",
              "      <th>1</th>\n",
              "      <td>6I9VzXrHxO9rA9A5euc8Ak</td>\n",
              "      <td>Toxic</td>\n",
              "      <td>Britney Spears</td>\n",
              "    </tr>\n",
              "    <tr>\n",
              "      <th>2</th>\n",
              "      <td>0WqIKmW4BTrj3eJFmnCKMv</td>\n",
              "      <td>Crazy In Love</td>\n",
              "      <td>Beyoncé</td>\n",
              "    </tr>\n",
              "    <tr>\n",
              "      <th>3</th>\n",
              "      <td>1AWQoqb9bSvzTjaLralEkT</td>\n",
              "      <td>Rock Your Body</td>\n",
              "      <td>Justin Timberlake</td>\n",
              "    </tr>\n",
              "    <tr>\n",
              "      <th>4</th>\n",
              "      <td>1lzr43nnXAijIGYnCT8M8H</td>\n",
              "      <td>It Wasn't Me</td>\n",
              "      <td>Shaggy</td>\n",
              "    </tr>\n",
              "  </tbody>\n",
              "</table>\n",
              "</div>"
            ],
            "text/plain": [
              "                       id                                  track_name  \\\n",
              "0  0UaMYEvWZi0ZqiDOoHU3YI  Lose Control (feat. Ciara & Fat Man Scoop)   \n",
              "1  6I9VzXrHxO9rA9A5euc8Ak                                       Toxic   \n",
              "2  0WqIKmW4BTrj3eJFmnCKMv                               Crazy In Love   \n",
              "3  1AWQoqb9bSvzTjaLralEkT                              Rock Your Body   \n",
              "4  1lzr43nnXAijIGYnCT8M8H                                It Wasn't Me   \n",
              "\n",
              "         artist_name  \n",
              "0      Missy Elliott  \n",
              "1     Britney Spears  \n",
              "2            Beyoncé  \n",
              "3  Justin Timberlake  \n",
              "4             Shaggy  "
            ]
          },
          "metadata": {
            "tags": []
          },
          "execution_count": 150
        }
      ]
    },
    {
      "cell_type": "code",
      "metadata": {
        "colab": {
          "base_uri": "https://localhost:8080/",
          "height": 80
        },
        "id": "x8O8AwOS5EET",
        "outputId": "f3d2cdb7-833c-4759-f70a-6646f706bb31"
      },
      "source": [
        "df_storedTracks"
      ],
      "execution_count": null,
      "outputs": [
        {
          "output_type": "execute_result",
          "data": {
            "text/html": [
              "<div>\n",
              "<style scoped>\n",
              "    .dataframe tbody tr th:only-of-type {\n",
              "        vertical-align: middle;\n",
              "    }\n",
              "\n",
              "    .dataframe tbody tr th {\n",
              "        vertical-align: top;\n",
              "    }\n",
              "\n",
              "    .dataframe thead th {\n",
              "        text-align: right;\n",
              "    }\n",
              "</style>\n",
              "<table border=\"1\" class=\"dataframe\">\n",
              "  <thead>\n",
              "    <tr style=\"text-align: right;\">\n",
              "      <th></th>\n",
              "      <th>id</th>\n",
              "      <th>track_name</th>\n",
              "      <th>artist_name</th>\n",
              "    </tr>\n",
              "  </thead>\n",
              "  <tbody>\n",
              "    <tr>\n",
              "      <th>0</th>\n",
              "      <td>0uhJG7qeBA6obJRTGotNhX</td>\n",
              "      <td>Barbie</td>\n",
              "      <td>Je$$e</td>\n",
              "    </tr>\n",
              "  </tbody>\n",
              "</table>\n",
              "</div>"
            ],
            "text/plain": [
              "                       id track_name artist_name\n",
              "0  0uhJG7qeBA6obJRTGotNhX     Barbie       Je$$e"
            ]
          },
          "metadata": {
            "tags": []
          },
          "execution_count": 16
        }
      ]
    },
    {
      "cell_type": "markdown",
      "metadata": {
        "id": "yXseQMb65zrj"
      },
      "source": [
        "drop the duplicate tracks:"
      ]
    },
    {
      "cell_type": "code",
      "metadata": {
        "id": "ejaOZJ7vHbSl"
      },
      "source": [
        "df_notStoredTracks = df_notStoredTracks.drop_duplicates()"
      ],
      "execution_count": null,
      "outputs": []
    },
    {
      "cell_type": "code",
      "metadata": {
        "id": "e9wCmXJtco1Z"
      },
      "source": [
        "df_storedTracks = df_storedTracks.drop_duplicates()"
      ],
      "execution_count": null,
      "outputs": []
    },
    {
      "cell_type": "code",
      "metadata": {
        "colab": {
          "base_uri": "https://localhost:8080/"
        },
        "id": "Xndwh1jXkXkh",
        "outputId": "9fb7bc4f-43aa-47c0-a5e6-17d3336aa83e"
      },
      "source": [
        "df_notStoredTracks.shape"
      ],
      "execution_count": null,
      "outputs": [
        {
          "output_type": "execute_result",
          "data": {
            "text/plain": [
              "(34443, 3)"
            ]
          },
          "metadata": {
            "tags": []
          },
          "execution_count": 20
        }
      ]
    },
    {
      "cell_type": "code",
      "metadata": {
        "colab": {
          "base_uri": "https://localhost:8080/"
        },
        "id": "cWVIEtklkmCl",
        "outputId": "385f4749-b50c-4897-81e0-36d755ba711d"
      },
      "source": [
        "df_storedTracks.shape"
      ],
      "execution_count": null,
      "outputs": [
        {
          "output_type": "execute_result",
          "data": {
            "text/plain": [
              "(6, 3)"
            ]
          },
          "metadata": {
            "tags": []
          },
          "execution_count": 21
        }
      ]
    },
    {
      "cell_type": "markdown",
      "metadata": {
        "id": "ixGsq64d6CwV"
      },
      "source": [
        "## Prepare ids of analysis"
      ]
    },
    {
      "cell_type": "markdown",
      "metadata": {
        "id": "Exu4wQS-3xZx"
      },
      "source": [
        "In the next section of the code the *ids* of each track are appended to a list in order to get a analysis of each track in the next step."
      ]
    },
    {
      "cell_type": "code",
      "metadata": {
        "id": "lDtD5HZIf5em"
      },
      "source": [
        "def prepareIds(df_storedTracks, df_notStoredTracks):\n",
        "  storedTracksIds = []\n",
        "  notStoredTracksIds = []\n",
        "  for x in df_storedTracks['id']:\n",
        "    storedTracksIds.append(x)\n",
        "\n",
        "  for x in df_notStoredTracks['id']:\n",
        "    notStoredTracksIds.append(x)\n",
        "  \n",
        "  return storedTracksIds, notStoredTracksIds\n",
        "\n",
        "storedTracksIds, notStoredTracksIds = prepareIds(df_storedTracks, df_notStoredTracks)"
      ],
      "execution_count": null,
      "outputs": []
    },
    {
      "cell_type": "markdown",
      "metadata": {
        "id": "tRpP4anS38Oi"
      },
      "source": [
        "The ids list must be strings:"
      ]
    },
    {
      "cell_type": "code",
      "metadata": {
        "colab": {
          "base_uri": "https://localhost:8080/"
        },
        "id": "Dh6VbE23Je81",
        "outputId": "2328faaf-88a6-459d-90a1-f2217b0f3018"
      },
      "source": [
        "print(len(storedTracksIds))\n",
        "print(len(notStoredTracksIds))"
      ],
      "execution_count": null,
      "outputs": [
        {
          "output_type": "stream",
          "text": [
            "6\n",
            "34443\n"
          ],
          "name": "stdout"
        }
      ]
    },
    {
      "cell_type": "code",
      "metadata": {
        "id": "g4j_ELT6gtCs"
      },
      "source": [
        "def prepareIdsGet(storedTracksIds, notStoredTracksIds):\n",
        "  storedTracksIdsGet = \",\".join(storedTracksIds)\n",
        "  notStoredTracksIdsGet = \",\".join(notStoredTracksIds)\n",
        "  return storedTracksIdsGet, notStoredTracksIdsGet\n",
        "\n",
        "storedTracksIdsGet, notStoredTracksIdsGet = prepareIdsGet(storedTracksIds, notStoredTracksIds)"
      ],
      "execution_count": null,
      "outputs": []
    },
    {
      "cell_type": "markdown",
      "metadata": {
        "id": "8Fh0_ibOq7gf"
      },
      "source": [
        "## Analysis using the Spotify-API\n",
        "\n",
        "In order to analyse the data, we make use of the Spotify-Api, which provides us with the essential data for each Track. 3 Functions are defined for getting an analysis:\n",
        "\n",
        "*   **getFeaturesOfTracksIds**: give a list of ids and get analysis of all tracks\n",
        "*   **getFeaturesOfTracksIdsBigDataset**: you can give a list of ids and api requests are sent separately\n",
        "*   **getFeaturesOfTrackId**: give one id and get the analysis of the track\n",
        "\n",
        "All 3 return a Pandas DataFrame. In order to send an API-Request, get a Bearer token from the Spotify Developer site.\n",
        "API-Token: https://developer.spotify.com/console/get-audio-features-track/?id=06AKEBrKUckW0KREUWRnvT\n"
      ]
    },
    {
      "cell_type": "code",
      "metadata": {
        "id": "ds43pS99QUfj"
      },
      "source": [
        "big_data_values_list = []\n",
        "\n",
        "def getFeaturesOfTrackIds(idsList):\n",
        "  url = f\"https://api.spotify.com/v1/audio-features/?ids={idsList}\"\n",
        "  r = requests.get(url, headers = {'Accept':'application/json', 'Content-Type':'application/json', 'Authorization':f'Bearer {token}'})\n",
        "  features = r.json()\n",
        "  print(features)\n",
        "  return pd.DataFrame(features['audio_features'])\n",
        "\n",
        "def getFeaturesOfTracksIdsBigDataset(idsList):\n",
        "  for x in idsList:\n",
        "    url = f\"https://api.spotify.com/v1/audio-features/{x}\"\n",
        "    print(x)\n",
        "    r = requests.get(url, headers = {'Accept':'application/json', 'Content-Type':'application/json', 'Authorization':f'Bearer {token}'})\n",
        "    print(r)\n",
        "    try:\n",
        "      features = r.json()\n",
        "    except:\n",
        "      pass\n",
        "    print(features)\n",
        "    big_data_values_list.append(features)\n",
        "  return pd.DataFrame(big_data_values_list)\n",
        "\n",
        "def getFeaturesOfTrackId(id):\n",
        "  url = f\"https://api.spotify.com/v1/audio-features/{x}\"\n",
        "  r = requests.get(url, headers = {'Accept':'application/json', 'Content-Type':'application/json', 'Authorization':f'Bearer {token}'})\n",
        "  features = r.json()\n",
        "  return pd.DataFrame([features])"
      ],
      "execution_count": null,
      "outputs": []
    },
    {
      "cell_type": "code",
      "metadata": {
        "colab": {
          "base_uri": "https://localhost:8080/"
        },
        "id": "pFTMR0_JK9B7",
        "outputId": "9e0799d1-a665-4a46-cfd1-d8ce44d4e3e7"
      },
      "source": [
        "df_storedTracksFeatures = getFeaturesOfTrackIds(storedTracksIdsGet)"
      ],
      "execution_count": null,
      "outputs": [
        {
          "output_type": "stream",
          "text": [
            "{'audio_features': [{'danceability': 0.716, 'energy': 0.629, 'key': 8, 'loudness': -5.385, 'mode': 1, 'speechiness': 0.0528, 'acousticness': 0.0841, 'instrumentalness': 0, 'liveness': 0.103, 'valence': 0.321, 'tempo': 150.0, 'type': 'audio_features', 'id': '0uhJG7qeBA6obJRTGotNhX', 'uri': 'spotify:track:0uhJG7qeBA6obJRTGotNhX', 'track_href': 'https://api.spotify.com/v1/tracks/0uhJG7qeBA6obJRTGotNhX', 'analysis_url': 'https://api.spotify.com/v1/audio-analysis/0uhJG7qeBA6obJRTGotNhX', 'duration_ms': 141046, 'time_signature': 4}]}\n"
          ],
          "name": "stdout"
        }
      ]
    },
    {
      "cell_type": "code",
      "metadata": {
        "id": "T0w71ePoLBbb"
      },
      "source": [
        "df_notStoredTracksFeatures = getFeaturesOfTracksIdsBigDataset(notStoredTracksIds)"
      ],
      "execution_count": null,
      "outputs": []
    },
    {
      "cell_type": "code",
      "metadata": {
        "colab": {
          "base_uri": "https://localhost:8080/"
        },
        "id": "mGuCICgW3K2N",
        "outputId": "351b8dd3-5fcf-4766-cb96-c8e78cd2792f"
      },
      "source": [
        "df_storedTracksFeatures.shape"
      ],
      "execution_count": null,
      "outputs": [
        {
          "output_type": "execute_result",
          "data": {
            "text/plain": [
              "(10, 18)"
            ]
          },
          "metadata": {
            "tags": []
          },
          "execution_count": 255
        }
      ]
    },
    {
      "cell_type": "code",
      "metadata": {
        "id": "p8mxgpgiY-5l"
      },
      "source": [
        "df_notStoredTracksFeatures.shape"
      ],
      "execution_count": null,
      "outputs": []
    },
    {
      "cell_type": "code",
      "metadata": {
        "id": "hV5KPflAREfa",
        "colab": {
          "base_uri": "https://localhost:8080/",
          "height": 309
        },
        "outputId": "25401855-127a-4ab6-ab33-3e7063247ac8"
      },
      "source": [
        "df_storedTracksFeatures.head()"
      ],
      "execution_count": null,
      "outputs": [
        {
          "output_type": "execute_result",
          "data": {
            "text/html": [
              "<div>\n",
              "<style scoped>\n",
              "    .dataframe tbody tr th:only-of-type {\n",
              "        vertical-align: middle;\n",
              "    }\n",
              "\n",
              "    .dataframe tbody tr th {\n",
              "        vertical-align: top;\n",
              "    }\n",
              "\n",
              "    .dataframe thead th {\n",
              "        text-align: right;\n",
              "    }\n",
              "</style>\n",
              "<table border=\"1\" class=\"dataframe\">\n",
              "  <thead>\n",
              "    <tr style=\"text-align: right;\">\n",
              "      <th></th>\n",
              "      <th>danceability</th>\n",
              "      <th>energy</th>\n",
              "      <th>key</th>\n",
              "      <th>loudness</th>\n",
              "      <th>mode</th>\n",
              "      <th>speechiness</th>\n",
              "      <th>acousticness</th>\n",
              "      <th>instrumentalness</th>\n",
              "      <th>liveness</th>\n",
              "      <th>valence</th>\n",
              "      <th>tempo</th>\n",
              "      <th>type</th>\n",
              "      <th>id</th>\n",
              "      <th>uri</th>\n",
              "      <th>track_href</th>\n",
              "      <th>analysis_url</th>\n",
              "      <th>duration_ms</th>\n",
              "      <th>time_signature</th>\n",
              "    </tr>\n",
              "  </thead>\n",
              "  <tbody>\n",
              "    <tr>\n",
              "      <th>0</th>\n",
              "      <td>0.726</td>\n",
              "      <td>0.769</td>\n",
              "      <td>6</td>\n",
              "      <td>-5.043</td>\n",
              "      <td>1</td>\n",
              "      <td>0.123</td>\n",
              "      <td>0.02930</td>\n",
              "      <td>0.010100</td>\n",
              "      <td>0.104</td>\n",
              "      <td>0.733</td>\n",
              "      <td>97.985</td>\n",
              "      <td>audio_features</td>\n",
              "      <td>3B54sVLJ402zGa6Xm4YGNe</td>\n",
              "      <td>spotify:track:3B54sVLJ402zGa6Xm4YGNe</td>\n",
              "      <td>https://api.spotify.com/v1/tracks/3B54sVLJ402zGa6Xm4YGNe</td>\n",
              "      <td>https://api.spotify.com/v1/audio-analysis/3B54sVLJ402zGa6Xm4YGNe</td>\n",
              "      <td>233902</td>\n",
              "      <td>4</td>\n",
              "    </tr>\n",
              "    <tr>\n",
              "      <th>1</th>\n",
              "      <td>0.800</td>\n",
              "      <td>0.658</td>\n",
              "      <td>1</td>\n",
              "      <td>-6.142</td>\n",
              "      <td>0</td>\n",
              "      <td>0.079</td>\n",
              "      <td>0.25000</td>\n",
              "      <td>0.000000</td>\n",
              "      <td>0.111</td>\n",
              "      <td>0.462</td>\n",
              "      <td>140.042</td>\n",
              "      <td>audio_features</td>\n",
              "      <td>7hxHWCCAIIxFLCzvDgnQHX</td>\n",
              "      <td>spotify:track:7hxHWCCAIIxFLCzvDgnQHX</td>\n",
              "      <td>https://api.spotify.com/v1/tracks/7hxHWCCAIIxFLCzvDgnQHX</td>\n",
              "      <td>https://api.spotify.com/v1/audio-analysis/7hxHWCCAIIxFLCzvDgnQHX</td>\n",
              "      <td>195429</td>\n",
              "      <td>4</td>\n",
              "    </tr>\n",
              "    <tr>\n",
              "      <th>2</th>\n",
              "      <td>0.829</td>\n",
              "      <td>0.539</td>\n",
              "      <td>11</td>\n",
              "      <td>-7.359</td>\n",
              "      <td>0</td>\n",
              "      <td>0.208</td>\n",
              "      <td>0.13600</td>\n",
              "      <td>0.000002</td>\n",
              "      <td>0.103</td>\n",
              "      <td>0.388</td>\n",
              "      <td>99.960</td>\n",
              "      <td>audio_features</td>\n",
              "      <td>7xQAfvXzm3AkraOtGPWIZg</td>\n",
              "      <td>spotify:track:7xQAfvXzm3AkraOtGPWIZg</td>\n",
              "      <td>https://api.spotify.com/v1/tracks/7xQAfvXzm3AkraOtGPWIZg</td>\n",
              "      <td>https://api.spotify.com/v1/audio-analysis/7xQAfvXzm3AkraOtGPWIZg</td>\n",
              "      <td>149547</td>\n",
              "      <td>4</td>\n",
              "    </tr>\n",
              "    <tr>\n",
              "      <th>3</th>\n",
              "      <td>0.689</td>\n",
              "      <td>0.735</td>\n",
              "      <td>2</td>\n",
              "      <td>-4.545</td>\n",
              "      <td>1</td>\n",
              "      <td>0.267</td>\n",
              "      <td>0.00922</td>\n",
              "      <td>0.000720</td>\n",
              "      <td>0.365</td>\n",
              "      <td>0.059</td>\n",
              "      <td>171.403</td>\n",
              "      <td>audio_features</td>\n",
              "      <td>7MJQ9Nfxzh8LPZ9e9u68Fq</td>\n",
              "      <td>spotify:track:7MJQ9Nfxzh8LPZ9e9u68Fq</td>\n",
              "      <td>https://api.spotify.com/v1/tracks/7MJQ9Nfxzh8LPZ9e9u68Fq</td>\n",
              "      <td>https://api.spotify.com/v1/audio-analysis/7MJQ9Nfxzh8LPZ9e9u68Fq</td>\n",
              "      <td>320627</td>\n",
              "      <td>4</td>\n",
              "    </tr>\n",
              "    <tr>\n",
              "      <th>4</th>\n",
              "      <td>0.855</td>\n",
              "      <td>0.954</td>\n",
              "      <td>0</td>\n",
              "      <td>-1.190</td>\n",
              "      <td>0</td>\n",
              "      <td>0.264</td>\n",
              "      <td>0.52900</td>\n",
              "      <td>0.000000</td>\n",
              "      <td>0.205</td>\n",
              "      <td>0.668</td>\n",
              "      <td>114.635</td>\n",
              "      <td>audio_features</td>\n",
              "      <td>7Ie9W94M7OjPoZVV216Xus</td>\n",
              "      <td>spotify:track:7Ie9W94M7OjPoZVV216Xus</td>\n",
              "      <td>https://api.spotify.com/v1/tracks/7Ie9W94M7OjPoZVV216Xus</td>\n",
              "      <td>https://api.spotify.com/v1/audio-analysis/7Ie9W94M7OjPoZVV216Xus</td>\n",
              "      <td>248133</td>\n",
              "      <td>5</td>\n",
              "    </tr>\n",
              "  </tbody>\n",
              "</table>\n",
              "</div>"
            ],
            "text/plain": [
              "   danceability  energy  key  loudness  mode  speechiness  acousticness  \\\n",
              "0         0.726   0.769    6    -5.043     1        0.123       0.02930   \n",
              "1         0.800   0.658    1    -6.142     0        0.079       0.25000   \n",
              "2         0.829   0.539   11    -7.359     0        0.208       0.13600   \n",
              "3         0.689   0.735    2    -4.545     1        0.267       0.00922   \n",
              "4         0.855   0.954    0    -1.190     0        0.264       0.52900   \n",
              "\n",
              "   instrumentalness  liveness  valence    tempo            type  \\\n",
              "0          0.010100     0.104    0.733   97.985  audio_features   \n",
              "1          0.000000     0.111    0.462  140.042  audio_features   \n",
              "2          0.000002     0.103    0.388   99.960  audio_features   \n",
              "3          0.000720     0.365    0.059  171.403  audio_features   \n",
              "4          0.000000     0.205    0.668  114.635  audio_features   \n",
              "\n",
              "                       id                                   uri  \\\n",
              "0  3B54sVLJ402zGa6Xm4YGNe  spotify:track:3B54sVLJ402zGa6Xm4YGNe   \n",
              "1  7hxHWCCAIIxFLCzvDgnQHX  spotify:track:7hxHWCCAIIxFLCzvDgnQHX   \n",
              "2  7xQAfvXzm3AkraOtGPWIZg  spotify:track:7xQAfvXzm3AkraOtGPWIZg   \n",
              "3  7MJQ9Nfxzh8LPZ9e9u68Fq  spotify:track:7MJQ9Nfxzh8LPZ9e9u68Fq   \n",
              "4  7Ie9W94M7OjPoZVV216Xus  spotify:track:7Ie9W94M7OjPoZVV216Xus   \n",
              "\n",
              "                                                 track_href  \\\n",
              "0  https://api.spotify.com/v1/tracks/3B54sVLJ402zGa6Xm4YGNe   \n",
              "1  https://api.spotify.com/v1/tracks/7hxHWCCAIIxFLCzvDgnQHX   \n",
              "2  https://api.spotify.com/v1/tracks/7xQAfvXzm3AkraOtGPWIZg   \n",
              "3  https://api.spotify.com/v1/tracks/7MJQ9Nfxzh8LPZ9e9u68Fq   \n",
              "4  https://api.spotify.com/v1/tracks/7Ie9W94M7OjPoZVV216Xus   \n",
              "\n",
              "                                                       analysis_url  \\\n",
              "0  https://api.spotify.com/v1/audio-analysis/3B54sVLJ402zGa6Xm4YGNe   \n",
              "1  https://api.spotify.com/v1/audio-analysis/7hxHWCCAIIxFLCzvDgnQHX   \n",
              "2  https://api.spotify.com/v1/audio-analysis/7xQAfvXzm3AkraOtGPWIZg   \n",
              "3  https://api.spotify.com/v1/audio-analysis/7MJQ9Nfxzh8LPZ9e9u68Fq   \n",
              "4  https://api.spotify.com/v1/audio-analysis/7Ie9W94M7OjPoZVV216Xus   \n",
              "\n",
              "   duration_ms  time_signature  \n",
              "0       233902               4  \n",
              "1       195429               4  \n",
              "2       149547               4  \n",
              "3       320627               4  \n",
              "4       248133               5  "
            ]
          },
          "metadata": {
            "tags": []
          },
          "execution_count": 132
        }
      ]
    },
    {
      "cell_type": "code",
      "metadata": {
        "colab": {
          "base_uri": "https://localhost:8080/",
          "height": 309
        },
        "id": "Zn96JKzwRGRa",
        "outputId": "01febac0-730f-40b7-a059-4d569a1cd788"
      },
      "source": [
        "df_notStoredTracksFeatures.head()"
      ],
      "execution_count": null,
      "outputs": [
        {
          "output_type": "execute_result",
          "data": {
            "text/html": [
              "<div>\n",
              "<style scoped>\n",
              "    .dataframe tbody tr th:only-of-type {\n",
              "        vertical-align: middle;\n",
              "    }\n",
              "\n",
              "    .dataframe tbody tr th {\n",
              "        vertical-align: top;\n",
              "    }\n",
              "\n",
              "    .dataframe thead th {\n",
              "        text-align: right;\n",
              "    }\n",
              "</style>\n",
              "<table border=\"1\" class=\"dataframe\">\n",
              "  <thead>\n",
              "    <tr style=\"text-align: right;\">\n",
              "      <th></th>\n",
              "      <th>danceability</th>\n",
              "      <th>energy</th>\n",
              "      <th>key</th>\n",
              "      <th>loudness</th>\n",
              "      <th>mode</th>\n",
              "      <th>speechiness</th>\n",
              "      <th>acousticness</th>\n",
              "      <th>instrumentalness</th>\n",
              "      <th>liveness</th>\n",
              "      <th>valence</th>\n",
              "      <th>tempo</th>\n",
              "      <th>type</th>\n",
              "      <th>id</th>\n",
              "      <th>uri</th>\n",
              "      <th>track_href</th>\n",
              "      <th>analysis_url</th>\n",
              "      <th>duration_ms</th>\n",
              "      <th>time_signature</th>\n",
              "      <th>error</th>\n",
              "    </tr>\n",
              "  </thead>\n",
              "  <tbody>\n",
              "    <tr>\n",
              "      <th>0</th>\n",
              "      <td>0.904</td>\n",
              "      <td>0.813</td>\n",
              "      <td>4.0</td>\n",
              "      <td>-7.105</td>\n",
              "      <td>0.0</td>\n",
              "      <td>0.1210</td>\n",
              "      <td>0.03110</td>\n",
              "      <td>0.006970</td>\n",
              "      <td>0.0471</td>\n",
              "      <td>0.810</td>\n",
              "      <td>125.461</td>\n",
              "      <td>audio_features</td>\n",
              "      <td>0UaMYEvWZi0ZqiDOoHU3YI</td>\n",
              "      <td>spotify:track:0UaMYEvWZi0ZqiDOoHU3YI</td>\n",
              "      <td>https://api.spotify.com/v1/tracks/0UaMYEvWZi0ZqiDOoHU3YI</td>\n",
              "      <td>https://api.spotify.com/v1/audio-analysis/0UaMYEvWZi0ZqiDOoHU3YI</td>\n",
              "      <td>226864.0</td>\n",
              "      <td>4.0</td>\n",
              "      <td>None</td>\n",
              "    </tr>\n",
              "    <tr>\n",
              "      <th>1</th>\n",
              "      <td>0.774</td>\n",
              "      <td>0.838</td>\n",
              "      <td>5.0</td>\n",
              "      <td>-3.914</td>\n",
              "      <td>0.0</td>\n",
              "      <td>0.1140</td>\n",
              "      <td>0.02490</td>\n",
              "      <td>0.025000</td>\n",
              "      <td>0.2420</td>\n",
              "      <td>0.924</td>\n",
              "      <td>143.040</td>\n",
              "      <td>audio_features</td>\n",
              "      <td>6I9VzXrHxO9rA9A5euc8Ak</td>\n",
              "      <td>spotify:track:6I9VzXrHxO9rA9A5euc8Ak</td>\n",
              "      <td>https://api.spotify.com/v1/tracks/6I9VzXrHxO9rA9A5euc8Ak</td>\n",
              "      <td>https://api.spotify.com/v1/audio-analysis/6I9VzXrHxO9rA9A5euc8Ak</td>\n",
              "      <td>198800.0</td>\n",
              "      <td>4.0</td>\n",
              "      <td>None</td>\n",
              "    </tr>\n",
              "    <tr>\n",
              "      <th>2</th>\n",
              "      <td>0.664</td>\n",
              "      <td>0.758</td>\n",
              "      <td>2.0</td>\n",
              "      <td>-6.583</td>\n",
              "      <td>0.0</td>\n",
              "      <td>0.2100</td>\n",
              "      <td>0.00238</td>\n",
              "      <td>0.000000</td>\n",
              "      <td>0.0598</td>\n",
              "      <td>0.701</td>\n",
              "      <td>99.259</td>\n",
              "      <td>audio_features</td>\n",
              "      <td>0WqIKmW4BTrj3eJFmnCKMv</td>\n",
              "      <td>spotify:track:0WqIKmW4BTrj3eJFmnCKMv</td>\n",
              "      <td>https://api.spotify.com/v1/tracks/0WqIKmW4BTrj3eJFmnCKMv</td>\n",
              "      <td>https://api.spotify.com/v1/audio-analysis/0WqIKmW4BTrj3eJFmnCKMv</td>\n",
              "      <td>235933.0</td>\n",
              "      <td>4.0</td>\n",
              "      <td>None</td>\n",
              "    </tr>\n",
              "    <tr>\n",
              "      <th>3</th>\n",
              "      <td>0.892</td>\n",
              "      <td>0.714</td>\n",
              "      <td>4.0</td>\n",
              "      <td>-6.055</td>\n",
              "      <td>0.0</td>\n",
              "      <td>0.1410</td>\n",
              "      <td>0.20100</td>\n",
              "      <td>0.000234</td>\n",
              "      <td>0.0521</td>\n",
              "      <td>0.817</td>\n",
              "      <td>100.972</td>\n",
              "      <td>audio_features</td>\n",
              "      <td>1AWQoqb9bSvzTjaLralEkT</td>\n",
              "      <td>spotify:track:1AWQoqb9bSvzTjaLralEkT</td>\n",
              "      <td>https://api.spotify.com/v1/tracks/1AWQoqb9bSvzTjaLralEkT</td>\n",
              "      <td>https://api.spotify.com/v1/audio-analysis/1AWQoqb9bSvzTjaLralEkT</td>\n",
              "      <td>267267.0</td>\n",
              "      <td>4.0</td>\n",
              "      <td>None</td>\n",
              "    </tr>\n",
              "    <tr>\n",
              "      <th>4</th>\n",
              "      <td>0.853</td>\n",
              "      <td>0.606</td>\n",
              "      <td>0.0</td>\n",
              "      <td>-4.596</td>\n",
              "      <td>1.0</td>\n",
              "      <td>0.0713</td>\n",
              "      <td>0.05610</td>\n",
              "      <td>0.000000</td>\n",
              "      <td>0.3130</td>\n",
              "      <td>0.654</td>\n",
              "      <td>94.759</td>\n",
              "      <td>audio_features</td>\n",
              "      <td>1lzr43nnXAijIGYnCT8M8H</td>\n",
              "      <td>spotify:track:1lzr43nnXAijIGYnCT8M8H</td>\n",
              "      <td>https://api.spotify.com/v1/tracks/1lzr43nnXAijIGYnCT8M8H</td>\n",
              "      <td>https://api.spotify.com/v1/audio-analysis/1lzr43nnXAijIGYnCT8M8H</td>\n",
              "      <td>227600.0</td>\n",
              "      <td>4.0</td>\n",
              "      <td>None</td>\n",
              "    </tr>\n",
              "  </tbody>\n",
              "</table>\n",
              "</div>"
            ],
            "text/plain": [
              "   danceability  energy  key  loudness  mode  speechiness  acousticness  \\\n",
              "0         0.904   0.813  4.0    -7.105   0.0       0.1210       0.03110   \n",
              "1         0.774   0.838  5.0    -3.914   0.0       0.1140       0.02490   \n",
              "2         0.664   0.758  2.0    -6.583   0.0       0.2100       0.00238   \n",
              "3         0.892   0.714  4.0    -6.055   0.0       0.1410       0.20100   \n",
              "4         0.853   0.606  0.0    -4.596   1.0       0.0713       0.05610   \n",
              "\n",
              "   instrumentalness  liveness  valence    tempo            type  \\\n",
              "0          0.006970    0.0471    0.810  125.461  audio_features   \n",
              "1          0.025000    0.2420    0.924  143.040  audio_features   \n",
              "2          0.000000    0.0598    0.701   99.259  audio_features   \n",
              "3          0.000234    0.0521    0.817  100.972  audio_features   \n",
              "4          0.000000    0.3130    0.654   94.759  audio_features   \n",
              "\n",
              "                       id                                   uri  \\\n",
              "0  0UaMYEvWZi0ZqiDOoHU3YI  spotify:track:0UaMYEvWZi0ZqiDOoHU3YI   \n",
              "1  6I9VzXrHxO9rA9A5euc8Ak  spotify:track:6I9VzXrHxO9rA9A5euc8Ak   \n",
              "2  0WqIKmW4BTrj3eJFmnCKMv  spotify:track:0WqIKmW4BTrj3eJFmnCKMv   \n",
              "3  1AWQoqb9bSvzTjaLralEkT  spotify:track:1AWQoqb9bSvzTjaLralEkT   \n",
              "4  1lzr43nnXAijIGYnCT8M8H  spotify:track:1lzr43nnXAijIGYnCT8M8H   \n",
              "\n",
              "                                                 track_href  \\\n",
              "0  https://api.spotify.com/v1/tracks/0UaMYEvWZi0ZqiDOoHU3YI   \n",
              "1  https://api.spotify.com/v1/tracks/6I9VzXrHxO9rA9A5euc8Ak   \n",
              "2  https://api.spotify.com/v1/tracks/0WqIKmW4BTrj3eJFmnCKMv   \n",
              "3  https://api.spotify.com/v1/tracks/1AWQoqb9bSvzTjaLralEkT   \n",
              "4  https://api.spotify.com/v1/tracks/1lzr43nnXAijIGYnCT8M8H   \n",
              "\n",
              "                                                       analysis_url  \\\n",
              "0  https://api.spotify.com/v1/audio-analysis/0UaMYEvWZi0ZqiDOoHU3YI   \n",
              "1  https://api.spotify.com/v1/audio-analysis/6I9VzXrHxO9rA9A5euc8Ak   \n",
              "2  https://api.spotify.com/v1/audio-analysis/0WqIKmW4BTrj3eJFmnCKMv   \n",
              "3  https://api.spotify.com/v1/audio-analysis/1AWQoqb9bSvzTjaLralEkT   \n",
              "4  https://api.spotify.com/v1/audio-analysis/1lzr43nnXAijIGYnCT8M8H   \n",
              "\n",
              "   duration_ms  time_signature error  \n",
              "0     226864.0             4.0  None  \n",
              "1     198800.0             4.0  None  \n",
              "2     235933.0             4.0  None  \n",
              "3     267267.0             4.0  None  \n",
              "4     227600.0             4.0  None  "
            ]
          },
          "metadata": {
            "tags": []
          },
          "execution_count": 218
        }
      ]
    },
    {
      "cell_type": "markdown",
      "metadata": {
        "id": "ibSraYLJPaVR"
      },
      "source": [
        "### Convert the features to a file"
      ]
    },
    {
      "cell_type": "code",
      "metadata": {
        "id": "H0vjlYJLPlef"
      },
      "source": [
        "def write_to_file(df_notStoredTracksFeatures):\n",
        "  json_notStoredTracksFeatures = df_notStoredTracksFeatures.to_json()\n",
        "  with open(\"/content/gdrive/MyDrive/Schule/Diplomarbeit/notStoredTracksFeatures.json\", \"w\") as outfile:\n",
        "    outfile.write(json_notStoredTracksFeatures)"
      ],
      "execution_count": null,
      "outputs": []
    },
    {
      "cell_type": "code",
      "metadata": {
        "id": "JnU5G_DIWjYJ"
      },
      "source": [
        "def read_from_file():\n",
        "  df_notStoredTracksFeatures = pd.read_json('/content/gdrive/MyDrive/Schule/Diplomarbeit/notStoredTracksFeatures.json')\n",
        "  df_notStoredTracksFeatures.shape\n",
        "  return df_notStoredTracksFeatures\n",
        "\n",
        "df_notStoredTracksFeatures = read_from_file()"
      ],
      "execution_count": null,
      "outputs": []
    },
    {
      "cell_type": "code",
      "metadata": {
        "colab": {
          "base_uri": "https://localhost:8080/",
          "height": 309
        },
        "id": "v_ybmfXxKEvP",
        "outputId": "810132dd-d0a0-4918-e0e5-7a6f9804fdbc"
      },
      "source": [
        "df_notStoredTracksFeatures.head()"
      ],
      "execution_count": null,
      "outputs": [
        {
          "output_type": "execute_result",
          "data": {
            "text/html": [
              "<div>\n",
              "<style scoped>\n",
              "    .dataframe tbody tr th:only-of-type {\n",
              "        vertical-align: middle;\n",
              "    }\n",
              "\n",
              "    .dataframe tbody tr th {\n",
              "        vertical-align: top;\n",
              "    }\n",
              "\n",
              "    .dataframe thead th {\n",
              "        text-align: right;\n",
              "    }\n",
              "</style>\n",
              "<table border=\"1\" class=\"dataframe\">\n",
              "  <thead>\n",
              "    <tr style=\"text-align: right;\">\n",
              "      <th></th>\n",
              "      <th>danceability</th>\n",
              "      <th>energy</th>\n",
              "      <th>key</th>\n",
              "      <th>loudness</th>\n",
              "      <th>mode</th>\n",
              "      <th>speechiness</th>\n",
              "      <th>acousticness</th>\n",
              "      <th>instrumentalness</th>\n",
              "      <th>liveness</th>\n",
              "      <th>valence</th>\n",
              "      <th>tempo</th>\n",
              "      <th>type</th>\n",
              "      <th>id</th>\n",
              "      <th>uri</th>\n",
              "      <th>track_href</th>\n",
              "      <th>analysis_url</th>\n",
              "      <th>duration_ms</th>\n",
              "      <th>time_signature</th>\n",
              "      <th>error</th>\n",
              "    </tr>\n",
              "  </thead>\n",
              "  <tbody>\n",
              "    <tr>\n",
              "      <th>0</th>\n",
              "      <td>0.904</td>\n",
              "      <td>0.813</td>\n",
              "      <td>4.0</td>\n",
              "      <td>-7.105</td>\n",
              "      <td>0.0</td>\n",
              "      <td>0.1210</td>\n",
              "      <td>0.03110</td>\n",
              "      <td>0.006970</td>\n",
              "      <td>0.0471</td>\n",
              "      <td>0.810</td>\n",
              "      <td>125.461</td>\n",
              "      <td>audio_features</td>\n",
              "      <td>0UaMYEvWZi0ZqiDOoHU3YI</td>\n",
              "      <td>spotify:track:0UaMYEvWZi0ZqiDOoHU3YI</td>\n",
              "      <td>https://api.spotify.com/v1/tracks/0UaMYEvWZi0ZqiDOoHU3YI</td>\n",
              "      <td>https://api.spotify.com/v1/audio-analysis/0UaMYEvWZi0ZqiDOoHU3YI</td>\n",
              "      <td>226864.0</td>\n",
              "      <td>4.0</td>\n",
              "      <td>None</td>\n",
              "    </tr>\n",
              "    <tr>\n",
              "      <th>1</th>\n",
              "      <td>0.774</td>\n",
              "      <td>0.838</td>\n",
              "      <td>5.0</td>\n",
              "      <td>-3.914</td>\n",
              "      <td>0.0</td>\n",
              "      <td>0.1140</td>\n",
              "      <td>0.02490</td>\n",
              "      <td>0.025000</td>\n",
              "      <td>0.2420</td>\n",
              "      <td>0.924</td>\n",
              "      <td>143.040</td>\n",
              "      <td>audio_features</td>\n",
              "      <td>6I9VzXrHxO9rA9A5euc8Ak</td>\n",
              "      <td>spotify:track:6I9VzXrHxO9rA9A5euc8Ak</td>\n",
              "      <td>https://api.spotify.com/v1/tracks/6I9VzXrHxO9rA9A5euc8Ak</td>\n",
              "      <td>https://api.spotify.com/v1/audio-analysis/6I9VzXrHxO9rA9A5euc8Ak</td>\n",
              "      <td>198800.0</td>\n",
              "      <td>4.0</td>\n",
              "      <td>None</td>\n",
              "    </tr>\n",
              "    <tr>\n",
              "      <th>2</th>\n",
              "      <td>0.664</td>\n",
              "      <td>0.758</td>\n",
              "      <td>2.0</td>\n",
              "      <td>-6.583</td>\n",
              "      <td>0.0</td>\n",
              "      <td>0.2100</td>\n",
              "      <td>0.00238</td>\n",
              "      <td>0.000000</td>\n",
              "      <td>0.0598</td>\n",
              "      <td>0.701</td>\n",
              "      <td>99.259</td>\n",
              "      <td>audio_features</td>\n",
              "      <td>0WqIKmW4BTrj3eJFmnCKMv</td>\n",
              "      <td>spotify:track:0WqIKmW4BTrj3eJFmnCKMv</td>\n",
              "      <td>https://api.spotify.com/v1/tracks/0WqIKmW4BTrj3eJFmnCKMv</td>\n",
              "      <td>https://api.spotify.com/v1/audio-analysis/0WqIKmW4BTrj3eJFmnCKMv</td>\n",
              "      <td>235933.0</td>\n",
              "      <td>4.0</td>\n",
              "      <td>None</td>\n",
              "    </tr>\n",
              "    <tr>\n",
              "      <th>3</th>\n",
              "      <td>0.892</td>\n",
              "      <td>0.714</td>\n",
              "      <td>4.0</td>\n",
              "      <td>-6.055</td>\n",
              "      <td>0.0</td>\n",
              "      <td>0.1410</td>\n",
              "      <td>0.20100</td>\n",
              "      <td>0.000234</td>\n",
              "      <td>0.0521</td>\n",
              "      <td>0.817</td>\n",
              "      <td>100.972</td>\n",
              "      <td>audio_features</td>\n",
              "      <td>1AWQoqb9bSvzTjaLralEkT</td>\n",
              "      <td>spotify:track:1AWQoqb9bSvzTjaLralEkT</td>\n",
              "      <td>https://api.spotify.com/v1/tracks/1AWQoqb9bSvzTjaLralEkT</td>\n",
              "      <td>https://api.spotify.com/v1/audio-analysis/1AWQoqb9bSvzTjaLralEkT</td>\n",
              "      <td>267267.0</td>\n",
              "      <td>4.0</td>\n",
              "      <td>None</td>\n",
              "    </tr>\n",
              "    <tr>\n",
              "      <th>4</th>\n",
              "      <td>0.853</td>\n",
              "      <td>0.606</td>\n",
              "      <td>0.0</td>\n",
              "      <td>-4.596</td>\n",
              "      <td>1.0</td>\n",
              "      <td>0.0713</td>\n",
              "      <td>0.05610</td>\n",
              "      <td>0.000000</td>\n",
              "      <td>0.3130</td>\n",
              "      <td>0.654</td>\n",
              "      <td>94.759</td>\n",
              "      <td>audio_features</td>\n",
              "      <td>1lzr43nnXAijIGYnCT8M8H</td>\n",
              "      <td>spotify:track:1lzr43nnXAijIGYnCT8M8H</td>\n",
              "      <td>https://api.spotify.com/v1/tracks/1lzr43nnXAijIGYnCT8M8H</td>\n",
              "      <td>https://api.spotify.com/v1/audio-analysis/1lzr43nnXAijIGYnCT8M8H</td>\n",
              "      <td>227600.0</td>\n",
              "      <td>4.0</td>\n",
              "      <td>None</td>\n",
              "    </tr>\n",
              "  </tbody>\n",
              "</table>\n",
              "</div>"
            ],
            "text/plain": [
              "   danceability  energy  key  loudness  mode  speechiness  acousticness  \\\n",
              "0         0.904   0.813  4.0    -7.105   0.0       0.1210       0.03110   \n",
              "1         0.774   0.838  5.0    -3.914   0.0       0.1140       0.02490   \n",
              "2         0.664   0.758  2.0    -6.583   0.0       0.2100       0.00238   \n",
              "3         0.892   0.714  4.0    -6.055   0.0       0.1410       0.20100   \n",
              "4         0.853   0.606  0.0    -4.596   1.0       0.0713       0.05610   \n",
              "\n",
              "   instrumentalness  liveness  valence    tempo            type  \\\n",
              "0          0.006970    0.0471    0.810  125.461  audio_features   \n",
              "1          0.025000    0.2420    0.924  143.040  audio_features   \n",
              "2          0.000000    0.0598    0.701   99.259  audio_features   \n",
              "3          0.000234    0.0521    0.817  100.972  audio_features   \n",
              "4          0.000000    0.3130    0.654   94.759  audio_features   \n",
              "\n",
              "                       id                                   uri  \\\n",
              "0  0UaMYEvWZi0ZqiDOoHU3YI  spotify:track:0UaMYEvWZi0ZqiDOoHU3YI   \n",
              "1  6I9VzXrHxO9rA9A5euc8Ak  spotify:track:6I9VzXrHxO9rA9A5euc8Ak   \n",
              "2  0WqIKmW4BTrj3eJFmnCKMv  spotify:track:0WqIKmW4BTrj3eJFmnCKMv   \n",
              "3  1AWQoqb9bSvzTjaLralEkT  spotify:track:1AWQoqb9bSvzTjaLralEkT   \n",
              "4  1lzr43nnXAijIGYnCT8M8H  spotify:track:1lzr43nnXAijIGYnCT8M8H   \n",
              "\n",
              "                                                 track_href  \\\n",
              "0  https://api.spotify.com/v1/tracks/0UaMYEvWZi0ZqiDOoHU3YI   \n",
              "1  https://api.spotify.com/v1/tracks/6I9VzXrHxO9rA9A5euc8Ak   \n",
              "2  https://api.spotify.com/v1/tracks/0WqIKmW4BTrj3eJFmnCKMv   \n",
              "3  https://api.spotify.com/v1/tracks/1AWQoqb9bSvzTjaLralEkT   \n",
              "4  https://api.spotify.com/v1/tracks/1lzr43nnXAijIGYnCT8M8H   \n",
              "\n",
              "                                                       analysis_url  \\\n",
              "0  https://api.spotify.com/v1/audio-analysis/0UaMYEvWZi0ZqiDOoHU3YI   \n",
              "1  https://api.spotify.com/v1/audio-analysis/6I9VzXrHxO9rA9A5euc8Ak   \n",
              "2  https://api.spotify.com/v1/audio-analysis/0WqIKmW4BTrj3eJFmnCKMv   \n",
              "3  https://api.spotify.com/v1/audio-analysis/1AWQoqb9bSvzTjaLralEkT   \n",
              "4  https://api.spotify.com/v1/audio-analysis/1lzr43nnXAijIGYnCT8M8H   \n",
              "\n",
              "   duration_ms  time_signature error  \n",
              "0     226864.0             4.0  None  \n",
              "1     198800.0             4.0  None  \n",
              "2     235933.0             4.0  None  \n",
              "3     267267.0             4.0  None  \n",
              "4     227600.0             4.0  None  "
            ]
          },
          "metadata": {
            "tags": []
          },
          "execution_count": 23
        }
      ]
    },
    {
      "cell_type": "markdown",
      "metadata": {
        "id": "4WhFr7RC-_Ia"
      },
      "source": [
        "### Prepare Data Frames for Recommender"
      ]
    },
    {
      "cell_type": "markdown",
      "metadata": {
        "id": "AWZUqojfAYLh"
      },
      "source": [
        "#### Complete Dataframe"
      ]
    },
    {
      "cell_type": "code",
      "metadata": {
        "id": "bKvqtsBswUxt"
      },
      "source": [
        "def prepare_complete_dataframe(df_storedTracks, df_storedTracksFeatures, df_notStoredTracks, df_notStoredTracksFeatures):\n",
        "  df_storedTracksComplete = df_storedTracks.merge(df_storedTracksFeatures, on=\"id\")\n",
        "  df_notStoredTracksComplete = df_notStoredTracks.merge(df_notStoredTracksFeatures, on=\"id\")\n",
        "\n",
        "  df_notStoredTracksComplete = df_notStoredTracksComplete.drop(['error'], axis=1)\n",
        "\n",
        "  df_storedTracksComplete = df_storedTracksComplete.drop_duplicates().reset_index(drop=True)\n",
        "  df_notStoredTracksComplete = df_notStoredTracksComplete.drop_duplicates().reset_index(drop=True)\n",
        "\n",
        "  return df_storedTracksComplete, df_notStoredTracksComplete"
      ],
      "execution_count": null,
      "outputs": []
    },
    {
      "cell_type": "code",
      "metadata": {
        "id": "uwBesbGuZGEM"
      },
      "source": [
        "df_storedTracksComplete = df_storedTracks.merge(df_storedTracksFeatures, on=\"id\")\n",
        "df_notStoredTracksComplete = df_notStoredTracks.merge(df_notStoredTracksFeatures, on=\"id\")\n",
        "\n",
        "df_notStoredTracksComplete = df_notStoredTracksComplete.drop(['error'], axis=1)\n",
        "\n",
        "df_storedTracksComplete = df_storedTracksComplete.drop_duplicates().reset_index(drop=True)\n",
        "df_notStoredTracksComplete = df_notStoredTracksComplete.drop_duplicates().reset_index(drop=True)"
      ],
      "execution_count": null,
      "outputs": []
    },
    {
      "cell_type": "code",
      "metadata": {
        "colab": {
          "base_uri": "https://localhost:8080/",
          "height": 117
        },
        "id": "lW4-bhyRnK2M",
        "outputId": "1b5a288e-dbab-4155-b5ba-9d5ec84eb0bb"
      },
      "source": [
        "df_storedTracksComplete"
      ],
      "execution_count": null,
      "outputs": [
        {
          "output_type": "execute_result",
          "data": {
            "text/html": [
              "<div>\n",
              "<style scoped>\n",
              "    .dataframe tbody tr th:only-of-type {\n",
              "        vertical-align: middle;\n",
              "    }\n",
              "\n",
              "    .dataframe tbody tr th {\n",
              "        vertical-align: top;\n",
              "    }\n",
              "\n",
              "    .dataframe thead th {\n",
              "        text-align: right;\n",
              "    }\n",
              "</style>\n",
              "<table border=\"1\" class=\"dataframe\">\n",
              "  <thead>\n",
              "    <tr style=\"text-align: right;\">\n",
              "      <th></th>\n",
              "      <th>id</th>\n",
              "      <th>track_name</th>\n",
              "      <th>artist_name</th>\n",
              "      <th>danceability</th>\n",
              "      <th>energy</th>\n",
              "      <th>key</th>\n",
              "      <th>loudness</th>\n",
              "      <th>mode</th>\n",
              "      <th>speechiness</th>\n",
              "      <th>acousticness</th>\n",
              "      <th>instrumentalness</th>\n",
              "      <th>liveness</th>\n",
              "      <th>valence</th>\n",
              "      <th>tempo</th>\n",
              "      <th>type</th>\n",
              "      <th>uri</th>\n",
              "      <th>track_href</th>\n",
              "      <th>analysis_url</th>\n",
              "      <th>duration_ms</th>\n",
              "      <th>time_signature</th>\n",
              "    </tr>\n",
              "  </thead>\n",
              "  <tbody>\n",
              "    <tr>\n",
              "      <th>0</th>\n",
              "      <td>0uhJG7qeBA6obJRTGotNhX</td>\n",
              "      <td>Barbie</td>\n",
              "      <td>Je$$e</td>\n",
              "      <td>0.716</td>\n",
              "      <td>0.629</td>\n",
              "      <td>8</td>\n",
              "      <td>-5.385</td>\n",
              "      <td>1</td>\n",
              "      <td>0.0528</td>\n",
              "      <td>0.0841</td>\n",
              "      <td>0</td>\n",
              "      <td>0.103</td>\n",
              "      <td>0.321</td>\n",
              "      <td>150.0</td>\n",
              "      <td>audio_features</td>\n",
              "      <td>spotify:track:0uhJG7qeBA6obJRTGotNhX</td>\n",
              "      <td>https://api.spotify.com/v1/tracks/0uhJG7qeBA6obJRTGotNhX</td>\n",
              "      <td>https://api.spotify.com/v1/audio-analysis/0uhJG7qeBA6obJRTGotNhX</td>\n",
              "      <td>141046</td>\n",
              "      <td>4</td>\n",
              "    </tr>\n",
              "  </tbody>\n",
              "</table>\n",
              "</div>"
            ],
            "text/plain": [
              "                       id track_name artist_name  danceability  energy  key  \\\n",
              "0  0uhJG7qeBA6obJRTGotNhX     Barbie       Je$$e         0.716   0.629    8   \n",
              "\n",
              "   loudness  mode  speechiness  acousticness  instrumentalness  liveness  \\\n",
              "0    -5.385     1       0.0528        0.0841                 0     0.103   \n",
              "\n",
              "   valence  tempo            type                                   uri  \\\n",
              "0    0.321  150.0  audio_features  spotify:track:0uhJG7qeBA6obJRTGotNhX   \n",
              "\n",
              "                                                 track_href  \\\n",
              "0  https://api.spotify.com/v1/tracks/0uhJG7qeBA6obJRTGotNhX   \n",
              "\n",
              "                                                       analysis_url  \\\n",
              "0  https://api.spotify.com/v1/audio-analysis/0uhJG7qeBA6obJRTGotNhX   \n",
              "\n",
              "   duration_ms  time_signature  \n",
              "0       141046               4  "
            ]
          },
          "metadata": {
            "tags": []
          },
          "execution_count": 26
        }
      ]
    },
    {
      "cell_type": "code",
      "metadata": {
        "colab": {
          "base_uri": "https://localhost:8080/",
          "height": 343
        },
        "id": "fTZrGs00qSNq",
        "outputId": "342b995f-863b-4c4f-ad53-39e6479d4b68"
      },
      "source": [
        "df_notStoredTracksComplete.head()"
      ],
      "execution_count": null,
      "outputs": [
        {
          "output_type": "execute_result",
          "data": {
            "text/html": [
              "<div>\n",
              "<style scoped>\n",
              "    .dataframe tbody tr th:only-of-type {\n",
              "        vertical-align: middle;\n",
              "    }\n",
              "\n",
              "    .dataframe tbody tr th {\n",
              "        vertical-align: top;\n",
              "    }\n",
              "\n",
              "    .dataframe thead th {\n",
              "        text-align: right;\n",
              "    }\n",
              "</style>\n",
              "<table border=\"1\" class=\"dataframe\">\n",
              "  <thead>\n",
              "    <tr style=\"text-align: right;\">\n",
              "      <th></th>\n",
              "      <th>id</th>\n",
              "      <th>track_name</th>\n",
              "      <th>artist_name</th>\n",
              "      <th>danceability</th>\n",
              "      <th>energy</th>\n",
              "      <th>key</th>\n",
              "      <th>loudness</th>\n",
              "      <th>mode</th>\n",
              "      <th>speechiness</th>\n",
              "      <th>acousticness</th>\n",
              "      <th>instrumentalness</th>\n",
              "      <th>liveness</th>\n",
              "      <th>valence</th>\n",
              "      <th>tempo</th>\n",
              "      <th>type</th>\n",
              "      <th>uri</th>\n",
              "      <th>track_href</th>\n",
              "      <th>analysis_url</th>\n",
              "      <th>duration_ms</th>\n",
              "      <th>time_signature</th>\n",
              "    </tr>\n",
              "  </thead>\n",
              "  <tbody>\n",
              "    <tr>\n",
              "      <th>0</th>\n",
              "      <td>0UaMYEvWZi0ZqiDOoHU3YI</td>\n",
              "      <td>Lose Control (feat. Ciara &amp; Fat Man Scoop)</td>\n",
              "      <td>Missy Elliott</td>\n",
              "      <td>0.904</td>\n",
              "      <td>0.813</td>\n",
              "      <td>4.0</td>\n",
              "      <td>-7.105</td>\n",
              "      <td>0.0</td>\n",
              "      <td>0.1210</td>\n",
              "      <td>0.03110</td>\n",
              "      <td>0.006970</td>\n",
              "      <td>0.0471</td>\n",
              "      <td>0.810</td>\n",
              "      <td>125.461</td>\n",
              "      <td>audio_features</td>\n",
              "      <td>spotify:track:0UaMYEvWZi0ZqiDOoHU3YI</td>\n",
              "      <td>https://api.spotify.com/v1/tracks/0UaMYEvWZi0ZqiDOoHU3YI</td>\n",
              "      <td>https://api.spotify.com/v1/audio-analysis/0UaMYEvWZi0ZqiDOoHU3YI</td>\n",
              "      <td>226864.0</td>\n",
              "      <td>4.0</td>\n",
              "    </tr>\n",
              "    <tr>\n",
              "      <th>1</th>\n",
              "      <td>6I9VzXrHxO9rA9A5euc8Ak</td>\n",
              "      <td>Toxic</td>\n",
              "      <td>Britney Spears</td>\n",
              "      <td>0.774</td>\n",
              "      <td>0.838</td>\n",
              "      <td>5.0</td>\n",
              "      <td>-3.914</td>\n",
              "      <td>0.0</td>\n",
              "      <td>0.1140</td>\n",
              "      <td>0.02490</td>\n",
              "      <td>0.025000</td>\n",
              "      <td>0.2420</td>\n",
              "      <td>0.924</td>\n",
              "      <td>143.040</td>\n",
              "      <td>audio_features</td>\n",
              "      <td>spotify:track:6I9VzXrHxO9rA9A5euc8Ak</td>\n",
              "      <td>https://api.spotify.com/v1/tracks/6I9VzXrHxO9rA9A5euc8Ak</td>\n",
              "      <td>https://api.spotify.com/v1/audio-analysis/6I9VzXrHxO9rA9A5euc8Ak</td>\n",
              "      <td>198800.0</td>\n",
              "      <td>4.0</td>\n",
              "    </tr>\n",
              "    <tr>\n",
              "      <th>2</th>\n",
              "      <td>0WqIKmW4BTrj3eJFmnCKMv</td>\n",
              "      <td>Crazy In Love</td>\n",
              "      <td>Beyoncé</td>\n",
              "      <td>0.664</td>\n",
              "      <td>0.758</td>\n",
              "      <td>2.0</td>\n",
              "      <td>-6.583</td>\n",
              "      <td>0.0</td>\n",
              "      <td>0.2100</td>\n",
              "      <td>0.00238</td>\n",
              "      <td>0.000000</td>\n",
              "      <td>0.0598</td>\n",
              "      <td>0.701</td>\n",
              "      <td>99.259</td>\n",
              "      <td>audio_features</td>\n",
              "      <td>spotify:track:0WqIKmW4BTrj3eJFmnCKMv</td>\n",
              "      <td>https://api.spotify.com/v1/tracks/0WqIKmW4BTrj3eJFmnCKMv</td>\n",
              "      <td>https://api.spotify.com/v1/audio-analysis/0WqIKmW4BTrj3eJFmnCKMv</td>\n",
              "      <td>235933.0</td>\n",
              "      <td>4.0</td>\n",
              "    </tr>\n",
              "    <tr>\n",
              "      <th>3</th>\n",
              "      <td>1AWQoqb9bSvzTjaLralEkT</td>\n",
              "      <td>Rock Your Body</td>\n",
              "      <td>Justin Timberlake</td>\n",
              "      <td>0.892</td>\n",
              "      <td>0.714</td>\n",
              "      <td>4.0</td>\n",
              "      <td>-6.055</td>\n",
              "      <td>0.0</td>\n",
              "      <td>0.1410</td>\n",
              "      <td>0.20100</td>\n",
              "      <td>0.000234</td>\n",
              "      <td>0.0521</td>\n",
              "      <td>0.817</td>\n",
              "      <td>100.972</td>\n",
              "      <td>audio_features</td>\n",
              "      <td>spotify:track:1AWQoqb9bSvzTjaLralEkT</td>\n",
              "      <td>https://api.spotify.com/v1/tracks/1AWQoqb9bSvzTjaLralEkT</td>\n",
              "      <td>https://api.spotify.com/v1/audio-analysis/1AWQoqb9bSvzTjaLralEkT</td>\n",
              "      <td>267267.0</td>\n",
              "      <td>4.0</td>\n",
              "    </tr>\n",
              "    <tr>\n",
              "      <th>4</th>\n",
              "      <td>1lzr43nnXAijIGYnCT8M8H</td>\n",
              "      <td>It Wasn't Me</td>\n",
              "      <td>Shaggy</td>\n",
              "      <td>0.853</td>\n",
              "      <td>0.606</td>\n",
              "      <td>0.0</td>\n",
              "      <td>-4.596</td>\n",
              "      <td>1.0</td>\n",
              "      <td>0.0713</td>\n",
              "      <td>0.05610</td>\n",
              "      <td>0.000000</td>\n",
              "      <td>0.3130</td>\n",
              "      <td>0.654</td>\n",
              "      <td>94.759</td>\n",
              "      <td>audio_features</td>\n",
              "      <td>spotify:track:1lzr43nnXAijIGYnCT8M8H</td>\n",
              "      <td>https://api.spotify.com/v1/tracks/1lzr43nnXAijIGYnCT8M8H</td>\n",
              "      <td>https://api.spotify.com/v1/audio-analysis/1lzr43nnXAijIGYnCT8M8H</td>\n",
              "      <td>227600.0</td>\n",
              "      <td>4.0</td>\n",
              "    </tr>\n",
              "  </tbody>\n",
              "</table>\n",
              "</div>"
            ],
            "text/plain": [
              "                       id                                  track_name  \\\n",
              "0  0UaMYEvWZi0ZqiDOoHU3YI  Lose Control (feat. Ciara & Fat Man Scoop)   \n",
              "1  6I9VzXrHxO9rA9A5euc8Ak                                       Toxic   \n",
              "2  0WqIKmW4BTrj3eJFmnCKMv                               Crazy In Love   \n",
              "3  1AWQoqb9bSvzTjaLralEkT                              Rock Your Body   \n",
              "4  1lzr43nnXAijIGYnCT8M8H                                It Wasn't Me   \n",
              "\n",
              "         artist_name  danceability  energy  key  loudness  mode  speechiness  \\\n",
              "0      Missy Elliott         0.904   0.813  4.0    -7.105   0.0       0.1210   \n",
              "1     Britney Spears         0.774   0.838  5.0    -3.914   0.0       0.1140   \n",
              "2            Beyoncé         0.664   0.758  2.0    -6.583   0.0       0.2100   \n",
              "3  Justin Timberlake         0.892   0.714  4.0    -6.055   0.0       0.1410   \n",
              "4             Shaggy         0.853   0.606  0.0    -4.596   1.0       0.0713   \n",
              "\n",
              "   acousticness  instrumentalness  liveness  valence    tempo            type  \\\n",
              "0       0.03110          0.006970    0.0471    0.810  125.461  audio_features   \n",
              "1       0.02490          0.025000    0.2420    0.924  143.040  audio_features   \n",
              "2       0.00238          0.000000    0.0598    0.701   99.259  audio_features   \n",
              "3       0.20100          0.000234    0.0521    0.817  100.972  audio_features   \n",
              "4       0.05610          0.000000    0.3130    0.654   94.759  audio_features   \n",
              "\n",
              "                                    uri  \\\n",
              "0  spotify:track:0UaMYEvWZi0ZqiDOoHU3YI   \n",
              "1  spotify:track:6I9VzXrHxO9rA9A5euc8Ak   \n",
              "2  spotify:track:0WqIKmW4BTrj3eJFmnCKMv   \n",
              "3  spotify:track:1AWQoqb9bSvzTjaLralEkT   \n",
              "4  spotify:track:1lzr43nnXAijIGYnCT8M8H   \n",
              "\n",
              "                                                 track_href  \\\n",
              "0  https://api.spotify.com/v1/tracks/0UaMYEvWZi0ZqiDOoHU3YI   \n",
              "1  https://api.spotify.com/v1/tracks/6I9VzXrHxO9rA9A5euc8Ak   \n",
              "2  https://api.spotify.com/v1/tracks/0WqIKmW4BTrj3eJFmnCKMv   \n",
              "3  https://api.spotify.com/v1/tracks/1AWQoqb9bSvzTjaLralEkT   \n",
              "4  https://api.spotify.com/v1/tracks/1lzr43nnXAijIGYnCT8M8H   \n",
              "\n",
              "                                                       analysis_url  \\\n",
              "0  https://api.spotify.com/v1/audio-analysis/0UaMYEvWZi0ZqiDOoHU3YI   \n",
              "1  https://api.spotify.com/v1/audio-analysis/6I9VzXrHxO9rA9A5euc8Ak   \n",
              "2  https://api.spotify.com/v1/audio-analysis/0WqIKmW4BTrj3eJFmnCKMv   \n",
              "3  https://api.spotify.com/v1/audio-analysis/1AWQoqb9bSvzTjaLralEkT   \n",
              "4  https://api.spotify.com/v1/audio-analysis/1lzr43nnXAijIGYnCT8M8H   \n",
              "\n",
              "   duration_ms  time_signature  \n",
              "0     226864.0             4.0  \n",
              "1     198800.0             4.0  \n",
              "2     235933.0             4.0  \n",
              "3     267267.0             4.0  \n",
              "4     227600.0             4.0  "
            ]
          },
          "metadata": {
            "tags": []
          },
          "execution_count": 27
        }
      ]
    },
    {
      "cell_type": "markdown",
      "metadata": {
        "id": "Upf233GnAgow"
      },
      "source": [
        "#### All Dataframe"
      ]
    },
    {
      "cell_type": "markdown",
      "metadata": {
        "id": "nZZhGnVNADAD"
      },
      "source": [
        "if we want a dataframe with all tracks, then merge these 2:"
      ]
    },
    {
      "cell_type": "code",
      "metadata": {
        "id": "eeLc74tlhlrs"
      },
      "source": [
        "df_all = pd.concat([df_storedTracksComplete, df_notStoredTracksComplete])"
      ],
      "execution_count": null,
      "outputs": []
    },
    {
      "cell_type": "code",
      "metadata": {
        "id": "P4l8xAW3hONb"
      },
      "source": [
        "df_all = df_all.drop_duplicates()"
      ],
      "execution_count": null,
      "outputs": []
    },
    {
      "cell_type": "code",
      "metadata": {
        "id": "bTYdYuXcF8Lp"
      },
      "source": [
        "df_data = df_all.drop(['id', 'track_name', 'artist_name', 'type', 'uri', 'track_href', 'analysis_url'], axis = 1)"
      ],
      "execution_count": null,
      "outputs": []
    },
    {
      "cell_type": "markdown",
      "metadata": {
        "id": "RatMKkCTAj54"
      },
      "source": [
        "#### Data Dataframe"
      ]
    },
    {
      "cell_type": "markdown",
      "metadata": {
        "id": "6NJ0Gz5k8HX9"
      },
      "source": [
        "Drop Data which are not features:"
      ]
    },
    {
      "cell_type": "code",
      "metadata": {
        "id": "54i-JtmzbQvH"
      },
      "source": [
        "def prepare_data_dataframe(df_storedTracksComplete, df_notStoredTracksComplete):\n",
        "  df_storedTracksData = df_storedTracksComplete.drop(['track_name', 'artist_name', 'id', 'type', 'uri', 'track_href', 'analysis_url'], axis = 1)\n",
        "  df_notStoredTracksData = df_notStoredTracksComplete.drop(['track_name', 'artist_name', 'id', 'type', 'uri', 'track_href', 'analysis_url'], axis = 1)\n",
        "  return df_storedTracksData, df_notStoredTracksData"
      ],
      "execution_count": null,
      "outputs": []
    },
    {
      "cell_type": "code",
      "metadata": {
        "id": "phr774_BZPnZ"
      },
      "source": [
        "df_storedTracksData = df_storedTracksComplete.drop(['track_name', 'artist_name', 'id', 'type', 'uri', 'track_href', 'analysis_url'], axis = 1)\n",
        "df_notStoredTracksData = df_notStoredTracksComplete.drop(['track_name', 'artist_name', 'id', 'type', 'uri', 'track_href', 'analysis_url'], axis = 1)"
      ],
      "execution_count": null,
      "outputs": []
    },
    {
      "cell_type": "code",
      "metadata": {
        "colab": {
          "base_uri": "https://localhost:8080/",
          "height": 100
        },
        "id": "fCIRPFYJqk1V",
        "outputId": "6c7e5ce2-873a-481d-ba5e-3e5c05e33997"
      },
      "source": [
        "df_storedTracksData.head()"
      ],
      "execution_count": null,
      "outputs": [
        {
          "output_type": "execute_result",
          "data": {
            "text/html": [
              "<div>\n",
              "<style scoped>\n",
              "    .dataframe tbody tr th:only-of-type {\n",
              "        vertical-align: middle;\n",
              "    }\n",
              "\n",
              "    .dataframe tbody tr th {\n",
              "        vertical-align: top;\n",
              "    }\n",
              "\n",
              "    .dataframe thead th {\n",
              "        text-align: right;\n",
              "    }\n",
              "</style>\n",
              "<table border=\"1\" class=\"dataframe\">\n",
              "  <thead>\n",
              "    <tr style=\"text-align: right;\">\n",
              "      <th></th>\n",
              "      <th>danceability</th>\n",
              "      <th>energy</th>\n",
              "      <th>key</th>\n",
              "      <th>loudness</th>\n",
              "      <th>mode</th>\n",
              "      <th>speechiness</th>\n",
              "      <th>acousticness</th>\n",
              "      <th>instrumentalness</th>\n",
              "      <th>liveness</th>\n",
              "      <th>valence</th>\n",
              "      <th>tempo</th>\n",
              "      <th>duration_ms</th>\n",
              "      <th>time_signature</th>\n",
              "    </tr>\n",
              "  </thead>\n",
              "  <tbody>\n",
              "    <tr>\n",
              "      <th>0</th>\n",
              "      <td>0.716</td>\n",
              "      <td>0.629</td>\n",
              "      <td>8</td>\n",
              "      <td>-5.385</td>\n",
              "      <td>1</td>\n",
              "      <td>0.0528</td>\n",
              "      <td>0.0841</td>\n",
              "      <td>0</td>\n",
              "      <td>0.103</td>\n",
              "      <td>0.321</td>\n",
              "      <td>150.0</td>\n",
              "      <td>141046</td>\n",
              "      <td>4</td>\n",
              "    </tr>\n",
              "  </tbody>\n",
              "</table>\n",
              "</div>"
            ],
            "text/plain": [
              "   danceability  energy  key  loudness  mode  speechiness  acousticness  \\\n",
              "0         0.716   0.629    8    -5.385     1       0.0528        0.0841   \n",
              "\n",
              "   instrumentalness  liveness  valence  tempo  duration_ms  time_signature  \n",
              "0                 0     0.103    0.321  150.0       141046               4  "
            ]
          },
          "metadata": {
            "tags": []
          },
          "execution_count": 33
        }
      ]
    },
    {
      "cell_type": "code",
      "metadata": {
        "colab": {
          "base_uri": "https://localhost:8080/",
          "height": 224
        },
        "id": "L7pwqdy2qm9l",
        "outputId": "61741167-4997-4962-bd9c-0e3625c8643c"
      },
      "source": [
        "df_notStoredTracksData.head()"
      ],
      "execution_count": null,
      "outputs": [
        {
          "output_type": "execute_result",
          "data": {
            "text/html": [
              "<div>\n",
              "<style scoped>\n",
              "    .dataframe tbody tr th:only-of-type {\n",
              "        vertical-align: middle;\n",
              "    }\n",
              "\n",
              "    .dataframe tbody tr th {\n",
              "        vertical-align: top;\n",
              "    }\n",
              "\n",
              "    .dataframe thead th {\n",
              "        text-align: right;\n",
              "    }\n",
              "</style>\n",
              "<table border=\"1\" class=\"dataframe\">\n",
              "  <thead>\n",
              "    <tr style=\"text-align: right;\">\n",
              "      <th></th>\n",
              "      <th>danceability</th>\n",
              "      <th>energy</th>\n",
              "      <th>key</th>\n",
              "      <th>loudness</th>\n",
              "      <th>mode</th>\n",
              "      <th>speechiness</th>\n",
              "      <th>acousticness</th>\n",
              "      <th>instrumentalness</th>\n",
              "      <th>liveness</th>\n",
              "      <th>valence</th>\n",
              "      <th>tempo</th>\n",
              "      <th>duration_ms</th>\n",
              "      <th>time_signature</th>\n",
              "    </tr>\n",
              "  </thead>\n",
              "  <tbody>\n",
              "    <tr>\n",
              "      <th>0</th>\n",
              "      <td>0.904</td>\n",
              "      <td>0.813</td>\n",
              "      <td>4.0</td>\n",
              "      <td>-7.105</td>\n",
              "      <td>0.0</td>\n",
              "      <td>0.1210</td>\n",
              "      <td>0.03110</td>\n",
              "      <td>0.006970</td>\n",
              "      <td>0.0471</td>\n",
              "      <td>0.810</td>\n",
              "      <td>125.461</td>\n",
              "      <td>226864.0</td>\n",
              "      <td>4.0</td>\n",
              "    </tr>\n",
              "    <tr>\n",
              "      <th>1</th>\n",
              "      <td>0.774</td>\n",
              "      <td>0.838</td>\n",
              "      <td>5.0</td>\n",
              "      <td>-3.914</td>\n",
              "      <td>0.0</td>\n",
              "      <td>0.1140</td>\n",
              "      <td>0.02490</td>\n",
              "      <td>0.025000</td>\n",
              "      <td>0.2420</td>\n",
              "      <td>0.924</td>\n",
              "      <td>143.040</td>\n",
              "      <td>198800.0</td>\n",
              "      <td>4.0</td>\n",
              "    </tr>\n",
              "    <tr>\n",
              "      <th>2</th>\n",
              "      <td>0.664</td>\n",
              "      <td>0.758</td>\n",
              "      <td>2.0</td>\n",
              "      <td>-6.583</td>\n",
              "      <td>0.0</td>\n",
              "      <td>0.2100</td>\n",
              "      <td>0.00238</td>\n",
              "      <td>0.000000</td>\n",
              "      <td>0.0598</td>\n",
              "      <td>0.701</td>\n",
              "      <td>99.259</td>\n",
              "      <td>235933.0</td>\n",
              "      <td>4.0</td>\n",
              "    </tr>\n",
              "    <tr>\n",
              "      <th>3</th>\n",
              "      <td>0.892</td>\n",
              "      <td>0.714</td>\n",
              "      <td>4.0</td>\n",
              "      <td>-6.055</td>\n",
              "      <td>0.0</td>\n",
              "      <td>0.1410</td>\n",
              "      <td>0.20100</td>\n",
              "      <td>0.000234</td>\n",
              "      <td>0.0521</td>\n",
              "      <td>0.817</td>\n",
              "      <td>100.972</td>\n",
              "      <td>267267.0</td>\n",
              "      <td>4.0</td>\n",
              "    </tr>\n",
              "    <tr>\n",
              "      <th>4</th>\n",
              "      <td>0.853</td>\n",
              "      <td>0.606</td>\n",
              "      <td>0.0</td>\n",
              "      <td>-4.596</td>\n",
              "      <td>1.0</td>\n",
              "      <td>0.0713</td>\n",
              "      <td>0.05610</td>\n",
              "      <td>0.000000</td>\n",
              "      <td>0.3130</td>\n",
              "      <td>0.654</td>\n",
              "      <td>94.759</td>\n",
              "      <td>227600.0</td>\n",
              "      <td>4.0</td>\n",
              "    </tr>\n",
              "  </tbody>\n",
              "</table>\n",
              "</div>"
            ],
            "text/plain": [
              "   danceability  energy  key  loudness  mode  speechiness  acousticness  \\\n",
              "0         0.904   0.813  4.0    -7.105   0.0       0.1210       0.03110   \n",
              "1         0.774   0.838  5.0    -3.914   0.0       0.1140       0.02490   \n",
              "2         0.664   0.758  2.0    -6.583   0.0       0.2100       0.00238   \n",
              "3         0.892   0.714  4.0    -6.055   0.0       0.1410       0.20100   \n",
              "4         0.853   0.606  0.0    -4.596   1.0       0.0713       0.05610   \n",
              "\n",
              "   instrumentalness  liveness  valence    tempo  duration_ms  time_signature  \n",
              "0          0.006970    0.0471    0.810  125.461     226864.0             4.0  \n",
              "1          0.025000    0.2420    0.924  143.040     198800.0             4.0  \n",
              "2          0.000000    0.0598    0.701   99.259     235933.0             4.0  \n",
              "3          0.000234    0.0521    0.817  100.972     267267.0             4.0  \n",
              "4          0.000000    0.3130    0.654   94.759     227600.0             4.0  "
            ]
          },
          "metadata": {
            "tags": []
          },
          "execution_count": 34
        }
      ]
    },
    {
      "cell_type": "markdown",
      "metadata": {
        "id": "tiy8izY5Rr9L"
      },
      "source": [
        "### Data explanation"
      ]
    },
    {
      "cell_type": "markdown",
      "metadata": {
        "id": "GswLVh3PRwrA"
      },
      "source": [
        "We get a lot of data from the Spotify-Analysis API, I'll explain them in short:\n",
        "\n",
        "1.   Danceability\n",
        "> How suitable a track is for dancing, based on a combination of musical elements, including *tempo*, *rhythm*, *stability*, *beat strength*, and overall *regularity*. \n",
        "\n",
        " *   **1.0** -> most danceable\n",
        " *   **0.0** -> least danceable\n",
        "\n",
        "2.  Energy\n",
        "> Perceptual measure of intensity and activity. Energetic tracks feel fast, loud and noisy. (Bsp.: Death metal has high energy)\n",
        "\n",
        " *   **1.0** -> most energy\n",
        " *   **0.0** -> least energy\n",
        "\n",
        "3.  Key\n",
        "> Integers map to pitches using standard Pitch Class Notation\n",
        "\n",
        " *   **0** = C\n",
        " *   **1** = C#/D\n",
        " *   **2** = D\n",
        " *   ...\n",
        "\n",
        "4.   Loudness\n",
        "> Loudness of a track in decibels (dB). Averaged across the entire track\n",
        "\n",
        "  *   **0** -> loud\n",
        "  *   **-60** -> silence\n",
        "\n",
        "5.   Speechiness\n",
        "> Presence of spoken words in a track. The more exclusively speech-like the recording (e.g. talk show, audio book, poetry), the closer to 1.0 the attribute value.\n",
        "\n",
        " *   **0.66 < value** -> probably made entirely of spoken words\n",
        " *   **0.33 < value < 0.66** -> tracks, that may contain both music and speech\n",
        " *   **value < 0.33** -> most likely represent music and other non-speech-like-tracks\n",
        "\n",
        "6.   Acousticness\n",
        "> A confidence measure whether the track is acoustic.\n",
        "\n",
        " *   **1.0** -> most acoustic\n",
        " *   **0.0** -> least acoustic\n",
        "\n",
        "7.   Instrumentalness\n",
        "> Predicts whether a track contains no vocals. \"Ooh\" and \"aah\" sounds are treated as instrumental in this context. Rap or spoken word tracks are clearly \"vocal\".\n",
        "\n",
        " *   **1.0** -> no vocal content\n",
        " *   **0.5 < value** -> instrumental track\n",
        " *   **0.0** -> vocal track\n",
        "\n",
        "8.   Liveness\n",
        "> Detects the presence of an audience in the recording.\n",
        "\n",
        " *   **1.0** -> track was performed live\n",
        " *   **0.8 < value** -> string likelihood that the track is live\n",
        " *   **0.0** -> track is not live\n",
        "\n",
        "9.   Valence\n",
        "> The musical positiveness conveyed by a track (happy, cheerful, euphoric) or (sad, depressed, angry)\n",
        "\n",
        " *   **1.0** -> most positive\n",
        " *   **0.0** -> least positive\n",
        "\n",
        "10.   Tempo\n",
        "> The overall estimated tempo of a track in beats per minute (BPM).\n",
        "\n",
        " *   Has a wide range approx. **90-150 BPM**\n",
        "\n",
        "11.   Duration\n",
        "> How long the track lasts\n",
        "\n",
        "*   Most tracks last **2 to 5 minutes**\n",
        "\n",
        "12.   Time Signature\n",
        "> A notational convention to specify how many beats are in each bar (or measure)\n",
        "\n",
        "*   Most tracks have a time-signature of **4**\n",
        "\n",
        "[Source](https://towardsdatascience.com/machine-learning-and-music-classification-a-content-based-filtering-approach-f2c4eb13bade)\n",
        "\n"
      ]
    },
    {
      "cell_type": "markdown",
      "metadata": {
        "id": "I8qB6q0_alF6"
      },
      "source": [
        "# Recommender"
      ]
    },
    {
      "cell_type": "markdown",
      "metadata": {
        "id": "dgynLQkkmmzW"
      },
      "source": [
        "##Cosine-Similarity"
      ]
    },
    {
      "cell_type": "code",
      "metadata": {
        "colab": {
          "base_uri": "https://localhost:8080/"
        },
        "id": "1P8j0TAFfqCm",
        "outputId": "3b19cfef-1293-446c-b371-2d7e91f13476"
      },
      "source": [
        "df_storedTracksComplete.shape"
      ],
      "execution_count": null,
      "outputs": [
        {
          "output_type": "execute_result",
          "data": {
            "text/plain": [
              "(6, 20)"
            ]
          },
          "metadata": {
            "tags": []
          },
          "execution_count": 32
        }
      ]
    },
    {
      "cell_type": "code",
      "metadata": {
        "colab": {
          "base_uri": "https://localhost:8080/"
        },
        "id": "BCy0jH9fbA6e",
        "outputId": "9bc96b6c-f7dd-40c9-8337-ead238e3e2f7"
      },
      "source": [
        "df_notStoredTracksComplete.shape"
      ],
      "execution_count": null,
      "outputs": [
        {
          "output_type": "execute_result",
          "data": {
            "text/plain": [
              "(14338, 20)"
            ]
          },
          "metadata": {
            "tags": []
          },
          "execution_count": 33
        }
      ]
    },
    {
      "cell_type": "code",
      "metadata": {
        "colab": {
          "base_uri": "https://localhost:8080/"
        },
        "id": "tO84dV2Rkr8W",
        "outputId": "8398b1eb-682d-4088-eade-d5d0615cf6d3"
      },
      "source": [
        "df_storedTracksData.shape"
      ],
      "execution_count": null,
      "outputs": [
        {
          "output_type": "execute_result",
          "data": {
            "text/plain": [
              "(1, 13)"
            ]
          },
          "metadata": {
            "tags": []
          },
          "execution_count": 35
        }
      ]
    },
    {
      "cell_type": "code",
      "metadata": {
        "colab": {
          "base_uri": "https://localhost:8080/"
        },
        "id": "OhKbHikzkt2x",
        "outputId": "4fe84822-8193-4b99-8589-fbc1fbb8b50b"
      },
      "source": [
        "df_notStoredTracksData.shape"
      ],
      "execution_count": null,
      "outputs": [
        {
          "output_type": "execute_result",
          "data": {
            "text/plain": [
              "(14338, 13)"
            ]
          },
          "metadata": {
            "tags": []
          },
          "execution_count": 36
        }
      ]
    },
    {
      "cell_type": "markdown",
      "metadata": {
        "id": "PDo6j9x_3g40"
      },
      "source": [
        "### Minimizing Dimensions (Factors)"
      ]
    },
    {
      "cell_type": "markdown",
      "metadata": {
        "id": "FJNGaG33Kswi"
      },
      "source": [
        "7 Factors:"
      ]
    },
    {
      "cell_type": "code",
      "metadata": {
        "id": "YW6fZOB53td8"
      },
      "source": [
        "df_notStoredTracksDataReduced_seven = df_notStoredTracksData.drop(['key', 'mode', 'loudness', 'tempo', 'duration_ms', 'time_signature'], axis=1)\n",
        "df_storedTracksDataReduced_seven = df_storedTracksData.drop(['key', 'mode', 'loudness', 'tempo', 'duration_ms', 'time_signature'], axis=1)"
      ],
      "execution_count": null,
      "outputs": []
    },
    {
      "cell_type": "code",
      "metadata": {
        "colab": {
          "base_uri": "https://localhost:8080/",
          "height": 80
        },
        "id": "g73beLUN8UV7",
        "outputId": "3ed9f6b4-632e-4ce9-cecb-112c42d21dd3"
      },
      "source": [
        "df_storedTracksDataReduced_seven"
      ],
      "execution_count": null,
      "outputs": [
        {
          "output_type": "execute_result",
          "data": {
            "text/html": [
              "<div>\n",
              "<style scoped>\n",
              "    .dataframe tbody tr th:only-of-type {\n",
              "        vertical-align: middle;\n",
              "    }\n",
              "\n",
              "    .dataframe tbody tr th {\n",
              "        vertical-align: top;\n",
              "    }\n",
              "\n",
              "    .dataframe thead th {\n",
              "        text-align: right;\n",
              "    }\n",
              "</style>\n",
              "<table border=\"1\" class=\"dataframe\">\n",
              "  <thead>\n",
              "    <tr style=\"text-align: right;\">\n",
              "      <th></th>\n",
              "      <th>danceability</th>\n",
              "      <th>energy</th>\n",
              "      <th>speechiness</th>\n",
              "      <th>acousticness</th>\n",
              "      <th>instrumentalness</th>\n",
              "      <th>liveness</th>\n",
              "      <th>valence</th>\n",
              "    </tr>\n",
              "  </thead>\n",
              "  <tbody>\n",
              "    <tr>\n",
              "      <th>0</th>\n",
              "      <td>0.716</td>\n",
              "      <td>0.629</td>\n",
              "      <td>0.0528</td>\n",
              "      <td>0.0841</td>\n",
              "      <td>0</td>\n",
              "      <td>0.103</td>\n",
              "      <td>0.321</td>\n",
              "    </tr>\n",
              "  </tbody>\n",
              "</table>\n",
              "</div>"
            ],
            "text/plain": [
              "   danceability  energy  speechiness  acousticness  instrumentalness  \\\n",
              "0         0.716   0.629       0.0528        0.0841                 0   \n",
              "\n",
              "   liveness  valence  \n",
              "0     0.103    0.321  "
            ]
          },
          "metadata": {
            "tags": []
          },
          "execution_count": 38
        }
      ]
    },
    {
      "cell_type": "markdown",
      "metadata": {
        "id": "GxS0yrvXKx0z"
      },
      "source": [
        "5 Factors:"
      ]
    },
    {
      "cell_type": "code",
      "metadata": {
        "id": "DD-IIl7J_Ayf"
      },
      "source": [
        "df_notStoredTracksDataReduced_five = df_notStoredTracksData.drop(['key', 'mode', 'loudness', 'tempo', 'duration_ms', 'time_signature', 'liveness', 'valence'], axis=1)\n",
        "df_storedTracksDataReduced_five = df_storedTracksData.drop(['key', 'mode', 'loudness', 'tempo', 'duration_ms', 'time_signature', 'liveness', 'valence'], axis=1)"
      ],
      "execution_count": null,
      "outputs": []
    },
    {
      "cell_type": "code",
      "metadata": {
        "colab": {
          "base_uri": "https://localhost:8080/",
          "height": 359
        },
        "id": "KzGXPHoH8gEt",
        "outputId": "8d691105-3e22-4149-928e-99d9ff286476"
      },
      "source": [
        "df_storedTracksDataReduced_five"
      ],
      "execution_count": null,
      "outputs": [
        {
          "output_type": "execute_result",
          "data": {
            "text/html": [
              "<div>\n",
              "<style scoped>\n",
              "    .dataframe tbody tr th:only-of-type {\n",
              "        vertical-align: middle;\n",
              "    }\n",
              "\n",
              "    .dataframe tbody tr th {\n",
              "        vertical-align: top;\n",
              "    }\n",
              "\n",
              "    .dataframe thead th {\n",
              "        text-align: right;\n",
              "    }\n",
              "</style>\n",
              "<table border=\"1\" class=\"dataframe\">\n",
              "  <thead>\n",
              "    <tr style=\"text-align: right;\">\n",
              "      <th></th>\n",
              "      <th>danceability</th>\n",
              "      <th>energy</th>\n",
              "      <th>speechiness</th>\n",
              "      <th>acousticness</th>\n",
              "      <th>instrumentalness</th>\n",
              "    </tr>\n",
              "  </thead>\n",
              "  <tbody>\n",
              "    <tr>\n",
              "      <th>0</th>\n",
              "      <td>0.726</td>\n",
              "      <td>0.76900</td>\n",
              "      <td>0.1230</td>\n",
              "      <td>0.02930</td>\n",
              "      <td>0.010100</td>\n",
              "    </tr>\n",
              "    <tr>\n",
              "      <th>1</th>\n",
              "      <td>0.800</td>\n",
              "      <td>0.65800</td>\n",
              "      <td>0.0790</td>\n",
              "      <td>0.25000</td>\n",
              "      <td>0.000000</td>\n",
              "    </tr>\n",
              "    <tr>\n",
              "      <th>2</th>\n",
              "      <td>0.829</td>\n",
              "      <td>0.53900</td>\n",
              "      <td>0.2080</td>\n",
              "      <td>0.13600</td>\n",
              "      <td>0.000002</td>\n",
              "    </tr>\n",
              "    <tr>\n",
              "      <th>3</th>\n",
              "      <td>0.689</td>\n",
              "      <td>0.73500</td>\n",
              "      <td>0.2670</td>\n",
              "      <td>0.00922</td>\n",
              "      <td>0.000720</td>\n",
              "    </tr>\n",
              "    <tr>\n",
              "      <th>4</th>\n",
              "      <td>0.855</td>\n",
              "      <td>0.95400</td>\n",
              "      <td>0.2640</td>\n",
              "      <td>0.52900</td>\n",
              "      <td>0.000000</td>\n",
              "    </tr>\n",
              "    <tr>\n",
              "      <th>5</th>\n",
              "      <td>0.778</td>\n",
              "      <td>0.69500</td>\n",
              "      <td>0.0913</td>\n",
              "      <td>0.17500</td>\n",
              "      <td>0.000000</td>\n",
              "    </tr>\n",
              "    <tr>\n",
              "      <th>6</th>\n",
              "      <td>0.418</td>\n",
              "      <td>0.03680</td>\n",
              "      <td>0.0499</td>\n",
              "      <td>0.99300</td>\n",
              "      <td>0.944000</td>\n",
              "    </tr>\n",
              "    <tr>\n",
              "      <th>7</th>\n",
              "      <td>0.271</td>\n",
              "      <td>0.01420</td>\n",
              "      <td>0.0510</td>\n",
              "      <td>0.99300</td>\n",
              "      <td>0.921000</td>\n",
              "    </tr>\n",
              "    <tr>\n",
              "      <th>8</th>\n",
              "      <td>0.458</td>\n",
              "      <td>0.00701</td>\n",
              "      <td>0.0438</td>\n",
              "      <td>0.99300</td>\n",
              "      <td>0.948000</td>\n",
              "    </tr>\n",
              "    <tr>\n",
              "      <th>9</th>\n",
              "      <td>0.754</td>\n",
              "      <td>0.44900</td>\n",
              "      <td>0.1090</td>\n",
              "      <td>0.03320</td>\n",
              "      <td>0.000083</td>\n",
              "    </tr>\n",
              "  </tbody>\n",
              "</table>\n",
              "</div>"
            ],
            "text/plain": [
              "   danceability   energy  speechiness  acousticness  instrumentalness\n",
              "0         0.726  0.76900       0.1230       0.02930          0.010100\n",
              "1         0.800  0.65800       0.0790       0.25000          0.000000\n",
              "2         0.829  0.53900       0.2080       0.13600          0.000002\n",
              "3         0.689  0.73500       0.2670       0.00922          0.000720\n",
              "4         0.855  0.95400       0.2640       0.52900          0.000000\n",
              "5         0.778  0.69500       0.0913       0.17500          0.000000\n",
              "6         0.418  0.03680       0.0499       0.99300          0.944000\n",
              "7         0.271  0.01420       0.0510       0.99300          0.921000\n",
              "8         0.458  0.00701       0.0438       0.99300          0.948000\n",
              "9         0.754  0.44900       0.1090       0.03320          0.000083"
            ]
          },
          "metadata": {
            "tags": []
          },
          "execution_count": 37
        }
      ]
    },
    {
      "cell_type": "code",
      "metadata": {
        "id": "mNs5KF374Kyz"
      },
      "source": [
        "df_notStoredTracksData.head(10)"
      ],
      "execution_count": null,
      "outputs": []
    },
    {
      "cell_type": "code",
      "metadata": {
        "colab": {
          "base_uri": "https://localhost:8080/",
          "height": 328
        },
        "id": "a3fV05JW4LBb",
        "outputId": "6d112cdc-a023-407b-ed33-5fc3919763ad"
      },
      "source": [
        "df_storedTracksData"
      ],
      "execution_count": null,
      "outputs": [
        {
          "output_type": "execute_result",
          "data": {
            "text/html": [
              "<div>\n",
              "<style scoped>\n",
              "    .dataframe tbody tr th:only-of-type {\n",
              "        vertical-align: middle;\n",
              "    }\n",
              "\n",
              "    .dataframe tbody tr th {\n",
              "        vertical-align: top;\n",
              "    }\n",
              "\n",
              "    .dataframe thead th {\n",
              "        text-align: right;\n",
              "    }\n",
              "</style>\n",
              "<table border=\"1\" class=\"dataframe\">\n",
              "  <thead>\n",
              "    <tr style=\"text-align: right;\">\n",
              "      <th></th>\n",
              "      <th>danceability</th>\n",
              "      <th>energy</th>\n",
              "      <th>key</th>\n",
              "      <th>loudness</th>\n",
              "      <th>mode</th>\n",
              "      <th>speechiness</th>\n",
              "      <th>acousticness</th>\n",
              "      <th>instrumentalness</th>\n",
              "      <th>liveness</th>\n",
              "      <th>valence</th>\n",
              "      <th>tempo</th>\n",
              "      <th>duration_ms</th>\n",
              "      <th>time_signature</th>\n",
              "    </tr>\n",
              "  </thead>\n",
              "  <tbody>\n",
              "    <tr>\n",
              "      <th>0</th>\n",
              "      <td>0.726</td>\n",
              "      <td>0.76900</td>\n",
              "      <td>6</td>\n",
              "      <td>-5.043</td>\n",
              "      <td>1</td>\n",
              "      <td>0.1230</td>\n",
              "      <td>0.02930</td>\n",
              "      <td>0.010100</td>\n",
              "      <td>0.1040</td>\n",
              "      <td>0.7330</td>\n",
              "      <td>97.985</td>\n",
              "      <td>233902</td>\n",
              "      <td>4</td>\n",
              "    </tr>\n",
              "    <tr>\n",
              "      <th>1</th>\n",
              "      <td>0.800</td>\n",
              "      <td>0.65800</td>\n",
              "      <td>1</td>\n",
              "      <td>-6.142</td>\n",
              "      <td>0</td>\n",
              "      <td>0.0790</td>\n",
              "      <td>0.25000</td>\n",
              "      <td>0.000000</td>\n",
              "      <td>0.1110</td>\n",
              "      <td>0.4620</td>\n",
              "      <td>140.042</td>\n",
              "      <td>195429</td>\n",
              "      <td>4</td>\n",
              "    </tr>\n",
              "    <tr>\n",
              "      <th>2</th>\n",
              "      <td>0.829</td>\n",
              "      <td>0.53900</td>\n",
              "      <td>11</td>\n",
              "      <td>-7.359</td>\n",
              "      <td>0</td>\n",
              "      <td>0.2080</td>\n",
              "      <td>0.13600</td>\n",
              "      <td>0.000002</td>\n",
              "      <td>0.1030</td>\n",
              "      <td>0.3880</td>\n",
              "      <td>99.960</td>\n",
              "      <td>149547</td>\n",
              "      <td>4</td>\n",
              "    </tr>\n",
              "    <tr>\n",
              "      <th>3</th>\n",
              "      <td>0.689</td>\n",
              "      <td>0.73500</td>\n",
              "      <td>2</td>\n",
              "      <td>-4.545</td>\n",
              "      <td>1</td>\n",
              "      <td>0.2670</td>\n",
              "      <td>0.00922</td>\n",
              "      <td>0.000720</td>\n",
              "      <td>0.3650</td>\n",
              "      <td>0.0590</td>\n",
              "      <td>171.403</td>\n",
              "      <td>320627</td>\n",
              "      <td>4</td>\n",
              "    </tr>\n",
              "    <tr>\n",
              "      <th>4</th>\n",
              "      <td>0.855</td>\n",
              "      <td>0.95400</td>\n",
              "      <td>0</td>\n",
              "      <td>-1.190</td>\n",
              "      <td>0</td>\n",
              "      <td>0.2640</td>\n",
              "      <td>0.52900</td>\n",
              "      <td>0.000000</td>\n",
              "      <td>0.2050</td>\n",
              "      <td>0.6680</td>\n",
              "      <td>114.635</td>\n",
              "      <td>248133</td>\n",
              "      <td>5</td>\n",
              "    </tr>\n",
              "    <tr>\n",
              "      <th>5</th>\n",
              "      <td>0.778</td>\n",
              "      <td>0.69500</td>\n",
              "      <td>4</td>\n",
              "      <td>-6.865</td>\n",
              "      <td>0</td>\n",
              "      <td>0.0913</td>\n",
              "      <td>0.17500</td>\n",
              "      <td>0.000000</td>\n",
              "      <td>0.1500</td>\n",
              "      <td>0.4720</td>\n",
              "      <td>149.996</td>\n",
              "      <td>132780</td>\n",
              "      <td>4</td>\n",
              "    </tr>\n",
              "    <tr>\n",
              "      <th>6</th>\n",
              "      <td>0.418</td>\n",
              "      <td>0.03680</td>\n",
              "      <td>11</td>\n",
              "      <td>-24.304</td>\n",
              "      <td>0</td>\n",
              "      <td>0.0499</td>\n",
              "      <td>0.99300</td>\n",
              "      <td>0.944000</td>\n",
              "      <td>0.0848</td>\n",
              "      <td>0.1190</td>\n",
              "      <td>111.355</td>\n",
              "      <td>161209</td>\n",
              "      <td>4</td>\n",
              "    </tr>\n",
              "    <tr>\n",
              "      <th>7</th>\n",
              "      <td>0.271</td>\n",
              "      <td>0.01420</td>\n",
              "      <td>0</td>\n",
              "      <td>-29.350</td>\n",
              "      <td>1</td>\n",
              "      <td>0.0510</td>\n",
              "      <td>0.99300</td>\n",
              "      <td>0.921000</td>\n",
              "      <td>0.1170</td>\n",
              "      <td>0.1360</td>\n",
              "      <td>71.286</td>\n",
              "      <td>148605</td>\n",
              "      <td>1</td>\n",
              "    </tr>\n",
              "    <tr>\n",
              "      <th>8</th>\n",
              "      <td>0.458</td>\n",
              "      <td>0.00701</td>\n",
              "      <td>8</td>\n",
              "      <td>-34.755</td>\n",
              "      <td>1</td>\n",
              "      <td>0.0438</td>\n",
              "      <td>0.99300</td>\n",
              "      <td>0.948000</td>\n",
              "      <td>0.1020</td>\n",
              "      <td>0.0939</td>\n",
              "      <td>118.444</td>\n",
              "      <td>171213</td>\n",
              "      <td>3</td>\n",
              "    </tr>\n",
              "  </tbody>\n",
              "</table>\n",
              "</div>"
            ],
            "text/plain": [
              "   danceability   energy  key  loudness  mode  speechiness  acousticness  \\\n",
              "0         0.726  0.76900    6    -5.043     1       0.1230       0.02930   \n",
              "1         0.800  0.65800    1    -6.142     0       0.0790       0.25000   \n",
              "2         0.829  0.53900   11    -7.359     0       0.2080       0.13600   \n",
              "3         0.689  0.73500    2    -4.545     1       0.2670       0.00922   \n",
              "4         0.855  0.95400    0    -1.190     0       0.2640       0.52900   \n",
              "5         0.778  0.69500    4    -6.865     0       0.0913       0.17500   \n",
              "6         0.418  0.03680   11   -24.304     0       0.0499       0.99300   \n",
              "7         0.271  0.01420    0   -29.350     1       0.0510       0.99300   \n",
              "8         0.458  0.00701    8   -34.755     1       0.0438       0.99300   \n",
              "\n",
              "   instrumentalness  liveness  valence    tempo  duration_ms  time_signature  \n",
              "0          0.010100    0.1040   0.7330   97.985       233902               4  \n",
              "1          0.000000    0.1110   0.4620  140.042       195429               4  \n",
              "2          0.000002    0.1030   0.3880   99.960       149547               4  \n",
              "3          0.000720    0.3650   0.0590  171.403       320627               4  \n",
              "4          0.000000    0.2050   0.6680  114.635       248133               5  \n",
              "5          0.000000    0.1500   0.4720  149.996       132780               4  \n",
              "6          0.944000    0.0848   0.1190  111.355       161209               4  \n",
              "7          0.921000    0.1170   0.1360   71.286       148605               1  \n",
              "8          0.948000    0.1020   0.0939  118.444       171213               3  "
            ]
          },
          "metadata": {
            "tags": []
          },
          "execution_count": 177
        }
      ]
    },
    {
      "cell_type": "markdown",
      "metadata": {
        "id": "CgRCJXGS8ygL"
      },
      "source": [
        "### Visualize the Data"
      ]
    },
    {
      "cell_type": "code",
      "metadata": {
        "id": "p6M-Jj69bH45",
        "colab": {
          "base_uri": "https://localhost:8080/",
          "height": 286
        },
        "outputId": "01db2d49-2666-4e6e-d29c-2c7dcb90c12f"
      },
      "source": [
        "def display_vectors(df_storedTracksData):\n",
        "  for i, row in df_storedTracksData.iterrows():\n",
        "    A = row[0]\n",
        "    B = row[1]\n",
        "    print(A, B)\n",
        "\n",
        "    ax = plt.axes()\n",
        "    \n",
        "    ax.arrow(0.0, 0.0, A, B, head_width=0.05, head_length=0.05)\n",
        "    #plt.annotate(f\"A({A}, {B})\", xy = (A, B), xytext=(A+0.5, B))\n",
        "\n",
        "display_vectors(df_storedTracksData)\n",
        "\n",
        "plt.xlim(0,1)\n",
        "plt.ylim(0,1)\n",
        "\n",
        "plt.show()\n",
        "plt.close()"
      ],
      "execution_count": null,
      "outputs": [
        {
          "output_type": "stream",
          "text": [
            "0.716 0.629\n"
          ],
          "name": "stdout"
        },
        {
          "output_type": "display_data",
          "data": {
            "image/png": "[encoded data removed]",
            "text/plain": [
              "<Figure size 432x288 with 1 Axes>"
            ]
          },
          "metadata": {
            "tags": [],
            "needs_background": "light"
          }
        }
      ]
    },
    {
      "cell_type": "code",
      "metadata": {
        "id": "paNldcUrn6s9"
      },
      "source": [
        "def show_graph(ang1, ang2):\n",
        "  fig = plt.figure()\n",
        "  ax = plt.axes(projection='3d')\n",
        "\n",
        "  xdata = df_storedTracksData['danceability']\n",
        "  ydata = df_storedTracksData['energy']\n",
        "  zdata = df_storedTracksData['acousticness']\n",
        "  ax.scatter3D(xdata, ydata, zdata);\n",
        "\n",
        "  ax.view_init(ang1, ang2)\n",
        "  plt.show()"
      ],
      "execution_count": null,
      "outputs": []
    },
    {
      "cell_type": "code",
      "metadata": {
        "colab": {
          "base_uri": "https://localhost:8080/",
          "height": 248
        },
        "id": "8YFH8N73rGjY",
        "outputId": "98dc6c82-414b-4167-b161-2f6154b07237"
      },
      "source": [
        "show_graph(20,50)"
      ],
      "execution_count": null,
      "outputs": [
        {
          "output_type": "display_data",
          "data": {
            "image/png": "[encoded data removed]",
            "text/plain": [
              "<Figure size 432x288 with 1 Axes>"
            ]
          },
          "metadata": {
            "tags": [],
            "needs_background": "light"
          }
        }
      ]
    },
    {
      "cell_type": "code",
      "metadata": {
        "colab": {
          "base_uri": "https://localhost:8080/",
          "height": 248
        },
        "id": "2o1jDpEKsuY6",
        "outputId": "45c68a6a-aa83-438c-e422-794552851352"
      },
      "source": [
        "show_graph(0,0)"
      ],
      "execution_count": null,
      "outputs": [
        {
          "output_type": "display_data",
          "data": {
            "image/png": "[encoded data removed]",
            "text/plain": [
              "<Figure size 432x288 with 1 Axes>"
            ]
          },
          "metadata": {
            "tags": [],
            "needs_background": "light"
          }
        }
      ]
    },
    {
      "cell_type": "code",
      "metadata": {
        "colab": {
          "base_uri": "https://localhost:8080/",
          "height": 248
        },
        "id": "OT1DsDutrItM",
        "outputId": "290305db-1b6e-4a33-b9bb-69868fd236f7"
      },
      "source": [
        "show_graph(20, 80)"
      ],
      "execution_count": null,
      "outputs": [
        {
          "output_type": "display_data",
          "data": {
            "image/png": "[encoded data removed]",
            "text/plain": [
              "<Figure size 432x288 with 1 Axes>"
            ]
          },
          "metadata": {
            "tags": [],
            "needs_background": "light"
          }
        }
      ]
    },
    {
      "cell_type": "code",
      "metadata": {
        "colab": {
          "base_uri": "https://localhost:8080/",
          "height": 248
        },
        "id": "bNlFo8StsINP",
        "outputId": "e960554e-0431-4cb8-bddc-15843d496765"
      },
      "source": [
        "show_graph(90, 80)"
      ],
      "execution_count": null,
      "outputs": [
        {
          "output_type": "display_data",
          "data": {
            "image/png": "[encoded data removed]",
            "text/plain": [
              "<Figure size 432x288 with 1 Axes>"
            ]
          },
          "metadata": {
            "tags": [],
            "needs_background": "light"
          }
        }
      ]
    },
    {
      "cell_type": "markdown",
      "metadata": {
        "id": "KC652oOa87p_"
      },
      "source": [
        "### Recommendation"
      ]
    },
    {
      "cell_type": "code",
      "metadata": {
        "id": "iPxLhxVjkyR7"
      },
      "source": [
        "def recommend(X_test, X_train, metric):\n",
        "  final_output = []\n",
        "  nearest_first = []\n",
        "  for i in range(len(X_test)):\n",
        "    d = []\n",
        "    for j in range(len(X_train)):\n",
        "      if metric == 'e':\n",
        "        dist = distance.euclidean(X_train[j], X_test[i])\n",
        "      elif metric == 'c':\n",
        "        dist = distance.cosine(X_train[j], X_test[i])\n",
        "      d.append([dist, j])\n",
        "    #d.sort()\n",
        "    d = sorted(d, key=lambda x: x[0])\n",
        "    #for each in my playlist pick 3 nearest\n",
        "    nearest_first.append(d[0:3])\n",
        "  for o in nearest_first:\n",
        "    for x in o:\n",
        "      final_output.append(x)\n",
        "  final_output.sort()\n",
        "  return final_output[:15]"
      ],
      "execution_count": null,
      "outputs": []
    },
    {
      "cell_type": "code",
      "metadata": {
        "id": "6mCM_rrOv5-w",
        "colab": {
          "base_uri": "https://localhost:8080/",
          "height": 238
        },
        "outputId": "61243352-8ef4-4eb7-ee09-16c12adf1cc5"
      },
      "source": [
        "def get_recommendation():\n",
        "  X_test = df_storedTracksDataReduced_seven.to_numpy()\n",
        "  X_train = df_notStoredTracksDataReduced_seven.to_numpy()\n",
        "\n",
        "  predictions = recommend(X_test, X_train, 'c')\n",
        "  predictions = dict(predictions)\n",
        "\n",
        "  ids = []\n",
        "  names = []\n",
        "  artists = []\n",
        "  \n",
        "  ls = []\n",
        "\n",
        "  for key, value in predictions.items():\n",
        "    ids.append(df_notStoredTracksComplete['id'][value])\n",
        "    names.append(df_notStoredTracksComplete['track_name'][value])\n",
        "    artists.append(df_notStoredTracksComplete['artist_name'][value])\n",
        "\n",
        "  recommendation_data = pd.DataFrame({\"Nr in Playlist:\": predictions.values(), \"id:\": ids[0], \n",
        "                        \"dst:\": predictions.keys(), \"name:\": names,\n",
        "                        \"artist:\": artists})\n",
        "\n",
        "  df_recommendations = pd.DataFrame(recommendation_data)\n",
        "\n",
        "\n",
        "  return df_recommendations\n",
        "\n",
        "\n",
        "df_recommendations = get_recommendation()\n",
        "df_recommendations"
      ],
      "execution_count": null,
      "outputs": [
        {
          "output_type": "stream",
          "text": [
            "/usr/local/lib/python3.7/dist-packages/scipy/spatial/distance.py:720: RuntimeWarning: invalid value encountered in double_scalars\n",
            "  dist = 1.0 - uv / np.sqrt(uu * vv)\n"
          ],
          "name": "stderr"
        },
        {
          "output_type": "execute_result",
          "data": {
            "text/html": [
              "<div>\n",
              "<style scoped>\n",
              "    .dataframe tbody tr th:only-of-type {\n",
              "        vertical-align: middle;\n",
              "    }\n",
              "\n",
              "    .dataframe tbody tr th {\n",
              "        vertical-align: top;\n",
              "    }\n",
              "\n",
              "    .dataframe thead th {\n",
              "        text-align: right;\n",
              "    }\n",
              "</style>\n",
              "<table border=\"1\" class=\"dataframe\">\n",
              "  <thead>\n",
              "    <tr style=\"text-align: right;\">\n",
              "      <th></th>\n",
              "      <th>Nr in Playlist:</th>\n",
              "      <th>id:</th>\n",
              "      <th>dst:</th>\n",
              "      <th>name:</th>\n",
              "      <th>artist:</th>\n",
              "    </tr>\n",
              "  </thead>\n",
              "  <tbody>\n",
              "    <tr>\n",
              "      <th>0</th>\n",
              "      <td>3169</td>\n",
              "      <td>5nHTLEJ10zaqdnKqLriah4</td>\n",
              "      <td>0.000497</td>\n",
              "      <td>Carousel</td>\n",
              "      <td>Melanie Martinez</td>\n",
              "    </tr>\n",
              "    <tr>\n",
              "      <th>1</th>\n",
              "      <td>3757</td>\n",
              "      <td>5nHTLEJ10zaqdnKqLriah4</td>\n",
              "      <td>0.000766</td>\n",
              "      <td>Habits (Stay High)</td>\n",
              "      <td>Tove Lo</td>\n",
              "    </tr>\n",
              "    <tr>\n",
              "      <th>2</th>\n",
              "      <td>11356</td>\n",
              "      <td>5nHTLEJ10zaqdnKqLriah4</td>\n",
              "      <td>0.000903</td>\n",
              "      <td>Wave's - Radio Edit</td>\n",
              "      <td>Slowly Drifting</td>\n",
              "    </tr>\n",
              "    <tr>\n",
              "      <th>3</th>\n",
              "      <td>167</td>\n",
              "      <td>5nHTLEJ10zaqdnKqLriah4</td>\n",
              "      <td>0.001213</td>\n",
              "      <td>The Freshmen</td>\n",
              "      <td>The Verve Pipe</td>\n",
              "    </tr>\n",
              "    <tr>\n",
              "      <th>4</th>\n",
              "      <td>980</td>\n",
              "      <td>5nHTLEJ10zaqdnKqLriah4</td>\n",
              "      <td>0.001433</td>\n",
              "      <td>Paparazzi</td>\n",
              "      <td>Lady Gaga</td>\n",
              "    </tr>\n",
              "  </tbody>\n",
              "</table>\n",
              "</div>"
            ],
            "text/plain": [
              "   Nr in Playlist:                     id:      dst:                name:  \\\n",
              "0             3169  5nHTLEJ10zaqdnKqLriah4  0.000497             Carousel   \n",
              "1             3757  5nHTLEJ10zaqdnKqLriah4  0.000766   Habits (Stay High)   \n",
              "2            11356  5nHTLEJ10zaqdnKqLriah4  0.000903  Wave's - Radio Edit   \n",
              "3              167  5nHTLEJ10zaqdnKqLriah4  0.001213         The Freshmen   \n",
              "4              980  5nHTLEJ10zaqdnKqLriah4  0.001433            Paparazzi   \n",
              "\n",
              "            artist:  \n",
              "0  Melanie Martinez  \n",
              "1           Tove Lo  \n",
              "2   Slowly Drifting  \n",
              "3    The Verve Pipe  \n",
              "4         Lady Gaga  "
            ]
          },
          "metadata": {
            "tags": []
          },
          "execution_count": 50
        }
      ]
    },
    {
      "cell_type": "code",
      "metadata": {
        "id": "MwbxspfOuxoC"
      },
      "source": [
        "df_notStoredTracksCompleteRec"
      ],
      "execution_count": null,
      "outputs": []
    },
    {
      "cell_type": "code",
      "metadata": {
        "id": "GxdaZ5nVf6Lp"
      },
      "source": [
        "class Recommender:\n",
        "  def __init__(self, playlist_id, data_loaded):\n",
        "    self.data_loaded = data_loaded\n",
        "\n",
        "  def main():\n",
        "    storedTracksDict, notStoredTracksDict = prepareAllAndMine(playlist_id, 1000)\n",
        "    df_storedTracks, df_notStoredTracks = make_dataframe(storedTracksDict, notStoredTracksDict)\n",
        "    storedTracksIds, notStoredTracksIds = prepareIds(df_storedTracks, df_notStoredTracks)\n",
        "\n",
        "    df_storedTracksFeatures = getFeaturesOfTracksIdsBigDataset(storedTracksIds)\n",
        "    df_notStoredTracksFeatures = getFeaturesOfTracksIdsBigDataset(notStoredTracksIds)\n",
        "    \n",
        "\n",
        "  if __name__ == \"__main__\":\n",
        "    main()\n",
        "\n",
        "recommender = Recommender(True, 631)"
      ],
      "execution_count": null,
      "outputs": []
    },
    {
      "cell_type": "code",
      "metadata": {
        "id": "GC9k0WL3y5dO"
      },
      "source": [
        "X = [[1,2,3], [4,5,6], [7,8,9]]\n",
        "Y = [[1,5,2], [7,3,5], [3,6,9]]\n",
        "Z = [[10,13,4], [11,4,9], [15,3,25]]\n",
        "\n",
        "euclidean_dist = distance.euclidean(X[0],Y[0])\n",
        "cosine_dist = distance.cosine(X[0], Y[0])\n",
        "cosine_dist_linear = linear_kernel(X, Y)\n",
        "print(\"euclidean: {}\".format(euclidean_dist))\n",
        "print(\"cosine: {}\".format(cosine_dist))\n",
        "print(\"cosine_linear: {}\".format(cosine_dist_linear))"
      ],
      "execution_count": null,
      "outputs": []
    },
    {
      "cell_type": "markdown",
      "metadata": {
        "id": "v-mEquR2mjRs"
      },
      "source": [
        "##KNN"
      ]
    },
    {
      "cell_type": "code",
      "metadata": {
        "colab": {
          "base_uri": "https://localhost:8080/"
        },
        "id": "yGIsJoVDuylv",
        "outputId": "399981ef-971a-4982-af28-5b004900bb75"
      },
      "source": [
        "print(df_storedTracksData.shape)\n",
        "print(df_notStoredTracksData.shape)"
      ],
      "execution_count": null,
      "outputs": [
        {
          "output_type": "stream",
          "text": [
            "(6, 5)\n",
            "(14338, 5)\n"
          ],
          "name": "stdout"
        }
      ]
    },
    {
      "cell_type": "code",
      "metadata": {
        "id": "3NG14eOlvZqW"
      },
      "source": [
        "df_storedTracksDataTarget.iloc[10]['target']\n",
        "dict_storedTracksDataTarget = df_storedTracksDataTarget.to_dict()\n",
        "for key, value in dict_storedTracksDataTarget:\n",
        "  print(key, value)"
      ],
      "execution_count": null,
      "outputs": []
    },
    {
      "cell_type": "code",
      "metadata": {
        "id": "YOcdfE0gRuoO"
      },
      "source": [
        "X = df_storedTracksData\n",
        "y = df_notStoredTracksData\n",
        "X_train, X_test, y_train, y_test = train_test_split(X, y, test_size = 0.20)"
      ],
      "execution_count": null,
      "outputs": []
    },
    {
      "cell_type": "code",
      "metadata": {
        "id": "WW1GdmaC9Ygg"
      },
      "source": [
        "y.head()"
      ],
      "execution_count": null,
      "outputs": []
    },
    {
      "cell_type": "code",
      "metadata": {
        "colab": {
          "base_uri": "https://localhost:8080/"
        },
        "id": "Uw_ukWVZWaNM",
        "outputId": "1564e21a-6281-4c60-a346-e0cd7e38948a"
      },
      "source": [
        "scaler = StandardScaler()\n",
        "scaler.fit(X_train)\n",
        "X_train = scaler.transform(X_train)\n",
        "X_test = scaler.transform(X_test)\n",
        "print(X_train.shape)\n",
        "print(X_test.shape)"
      ],
      "execution_count": null,
      "outputs": [
        {
          "output_type": "stream",
          "text": [
            "(126, 14)\n",
            "(32, 14)\n"
          ],
          "name": "stdout"
        }
      ]
    },
    {
      "cell_type": "code",
      "metadata": {
        "id": "oLRwvla4AOmN"
      },
      "source": [
        "y_train"
      ],
      "execution_count": null,
      "outputs": []
    },
    {
      "cell_type": "markdown",
      "metadata": {
        "id": "S6PTIaHC4ie7"
      },
      "source": [
        "### Classification"
      ]
    },
    {
      "cell_type": "code",
      "metadata": {
        "id": "6UnR9KS7XXHq"
      },
      "source": [
        "######### probably optimal value:\n",
        "int(math.sqrt(df_data.shape[0]))\n",
        "#########\n",
        "\n",
        "######### try to find better value\n",
        "range_k = range(1, 20)\n",
        "scores = {}\n",
        "scores_list = []\n",
        "for k in range_k:\n",
        "  classifier = KNeighborsClassifier(n_neighbors=k)\n",
        "  classifier.fit(X_train, y_train)\n",
        "  y_pred = classifier.predict(X_test)\n",
        "  scores[k] = metrics.accuracy_score(y_test, y_pred)\n",
        "  scores_list.append(metrics.accuracy_score(y_test, y_pred))\n",
        "result = metrics.confusion_matrix(y_test, y_pred)\n",
        "print(\"Confusion Matrix:\")\n",
        "print(result)\n",
        "result1 = metrics.classification_report(y_test, y_pred)\n",
        "print(\"Classification Report\")\n",
        "print(result1)"
      ],
      "execution_count": null,
      "outputs": []
    },
    {
      "cell_type": "code",
      "metadata": {
        "colab": {
          "base_uri": "https://localhost:8080/",
          "height": 296
        },
        "id": "zgs9xOuBb4yF",
        "outputId": "f34b0ecb-2354-4fca-8567-8e58ec21ceb0"
      },
      "source": [
        "plt.plot(range_k, scores_list)\n",
        "plt.xlabel(\"Value of K\")\n",
        "plt.ylabel(\"Accuracy\")"
      ],
      "execution_count": null,
      "outputs": [
        {
          "output_type": "execute_result",
          "data": {
            "text/plain": [
              "Text(0, 0.5, 'Accuracy')"
            ]
          },
          "metadata": {
            "tags": []
          },
          "execution_count": 116
        },
        {
          "output_type": "display_data",
          "data": {
            "image/png": "[encoded data removed]",
            "text/plain": [
              "<Figure size 432x288 with 1 Axes>"
            ]
          },
          "metadata": {
            "tags": []
          }
        }
      ]
    },
    {
      "cell_type": "code",
      "metadata": {
        "colab": {
          "base_uri": "https://localhost:8080/"
        },
        "id": "8328Zz4zXRae",
        "outputId": "19d597aa-ab59-4677-c194-974cf017da6d"
      },
      "source": [
        "df_data.shape"
      ],
      "execution_count": null,
      "outputs": [
        {
          "output_type": "execute_result",
          "data": {
            "text/plain": [
              "(158, 14)"
            ]
          },
          "metadata": {
            "tags": []
          },
          "execution_count": 125
        }
      ]
    },
    {
      "cell_type": "code",
      "metadata": {
        "id": "MSJ3sR1NttA7"
      },
      "source": [
        "classifier = KNeighborsClassifier(n_neighbors = 7)\n",
        "classifier.fit(X_train, y_train)\n",
        "preds = classifier.predict(df_oneTrack)\n",
        "print(preds)"
      ],
      "execution_count": null,
      "outputs": []
    },
    {
      "cell_type": "markdown",
      "metadata": {
        "id": "_uiXjPGX-MB2"
      },
      "source": [
        "##TF-IDF-Vectorizer"
      ]
    },
    {
      "cell_type": "code",
      "metadata": {
        "id": "nU0jv4mXZ-sT"
      },
      "source": [
        "df_allText = df_all.drop(['danceability', 'energy', 'key', 'loudness', 'mode', 'speechiness', 'acousticness', 'instrumentalness', 'liveness', 'valence', 'tempo', 'type', 'track_href', 'analysis_url', 'duration_ms', 'time_signature'], axis = 1)"
      ],
      "execution_count": null,
      "outputs": []
    },
    {
      "cell_type": "code",
      "metadata": {
        "id": "h4JtbeS9-PJm"
      },
      "source": [
        "df_notStoredTracksText = df_notStoredTracksComplete.drop(['danceability', 'energy', 'key', 'loudness', 'mode', 'speechiness', 'acousticness', 'instrumentalness', 'liveness', 'valence', 'tempo', 'type', 'track_href', 'analysis_url', 'duration_ms', 'time_signature'], axis = 1)"
      ],
      "execution_count": null,
      "outputs": []
    },
    {
      "cell_type": "code",
      "metadata": {
        "id": "8auEsnxe_1AB",
        "colab": {
          "base_uri": "https://localhost:8080/",
          "height": 204
        },
        "outputId": "acf97697-dff2-4a90-a467-25db3ea250f4"
      },
      "source": [
        "df_notStoredTracksComplete.head()"
      ],
      "execution_count": null,
      "outputs": [
        {
          "output_type": "execute_result",
          "data": {
            "text/html": [
              "<div>\n",
              "<style scoped>\n",
              "    .dataframe tbody tr th:only-of-type {\n",
              "        vertical-align: middle;\n",
              "    }\n",
              "\n",
              "    .dataframe tbody tr th {\n",
              "        vertical-align: top;\n",
              "    }\n",
              "\n",
              "    .dataframe thead th {\n",
              "        text-align: right;\n",
              "    }\n",
              "</style>\n",
              "<table border=\"1\" class=\"dataframe\">\n",
              "  <thead>\n",
              "    <tr style=\"text-align: right;\">\n",
              "      <th></th>\n",
              "      <th>id</th>\n",
              "      <th>track_name</th>\n",
              "      <th>artist_name</th>\n",
              "      <th>uri</th>\n",
              "    </tr>\n",
              "  </thead>\n",
              "  <tbody>\n",
              "    <tr>\n",
              "      <th>1925</th>\n",
              "      <td>7w9bgPAmPTtrkt2v16QWvQ</td>\n",
              "      <td>Lose Yourself - Soundtrack Version</td>\n",
              "      <td>Eminem</td>\n",
              "      <td>spotify:track:7w9bgPAmPTtrkt2v16QWvQ</td>\n",
              "    </tr>\n",
              "    <tr>\n",
              "      <th>673</th>\n",
              "      <td>4hEl2wrneFEJbJ6SDYWd2f</td>\n",
              "      <td>Not Afraid</td>\n",
              "      <td>Eminem</td>\n",
              "      <td>spotify:track:4hEl2wrneFEJbJ6SDYWd2f</td>\n",
              "    </tr>\n",
              "    <tr>\n",
              "      <th>7264</th>\n",
              "      <td>4Re0d3C9jBhdXX0e12FdYu</td>\n",
              "      <td>Autumn Flowers</td>\n",
              "      <td>Omar Sosa</td>\n",
              "      <td>spotify:track:4Re0d3C9jBhdXX0e12FdYu</td>\n",
              "    </tr>\n",
              "    <tr>\n",
              "      <th>13284</th>\n",
              "      <td>0Qw0J8pQHyA8pmYgs75RdE</td>\n",
              "      <td>Armellodie</td>\n",
              "      <td>Chilly Gonzales</td>\n",
              "      <td>spotify:track:0Qw0J8pQHyA8pmYgs75RdE</td>\n",
              "    </tr>\n",
              "    <tr>\n",
              "      <th>10461</th>\n",
              "      <td>3DnLGuX4YU3PGein8vo5Zt</td>\n",
              "      <td>Orfeo et Eurydice: Mélodie for Piano Solo</td>\n",
              "      <td>Christoph Willibald Gluck</td>\n",
              "      <td>spotify:track:3DnLGuX4YU3PGein8vo5Zt</td>\n",
              "    </tr>\n",
              "  </tbody>\n",
              "</table>\n",
              "</div>"
            ],
            "text/plain": [
              "                           id                                 track_name  \\\n",
              "1925   7w9bgPAmPTtrkt2v16QWvQ         Lose Yourself - Soundtrack Version   \n",
              "673    4hEl2wrneFEJbJ6SDYWd2f                                 Not Afraid   \n",
              "7264   4Re0d3C9jBhdXX0e12FdYu                             Autumn Flowers   \n",
              "13284  0Qw0J8pQHyA8pmYgs75RdE                                 Armellodie   \n",
              "10461  3DnLGuX4YU3PGein8vo5Zt  Orfeo et Eurydice: Mélodie for Piano Solo   \n",
              "\n",
              "                     artist_name                                   uri  \n",
              "1925                      Eminem  spotify:track:7w9bgPAmPTtrkt2v16QWvQ  \n",
              "673                       Eminem  spotify:track:4hEl2wrneFEJbJ6SDYWd2f  \n",
              "7264                   Omar Sosa  spotify:track:4Re0d3C9jBhdXX0e12FdYu  \n",
              "13284            Chilly Gonzales  spotify:track:0Qw0J8pQHyA8pmYgs75RdE  \n",
              "10461  Christoph Willibald Gluck  spotify:track:3DnLGuX4YU3PGein8vo5Zt  "
            ]
          },
          "metadata": {
            "tags": []
          },
          "execution_count": 115
        }
      ]
    },
    {
      "cell_type": "code",
      "metadata": {
        "id": "qXHJ29rEaK_d",
        "colab": {
          "base_uri": "https://localhost:8080/",
          "height": 514
        },
        "outputId": "c3475887-c91c-4b06-c6c5-3347c1bb6cf0"
      },
      "source": [
        "df_allText.head(15)"
      ],
      "execution_count": null,
      "outputs": [
        {
          "output_type": "execute_result",
          "data": {
            "text/html": [
              "<div>\n",
              "<style scoped>\n",
              "    .dataframe tbody tr th:only-of-type {\n",
              "        vertical-align: middle;\n",
              "    }\n",
              "\n",
              "    .dataframe tbody tr th {\n",
              "        vertical-align: top;\n",
              "    }\n",
              "\n",
              "    .dataframe thead th {\n",
              "        text-align: right;\n",
              "    }\n",
              "</style>\n",
              "<table border=\"1\" class=\"dataframe\">\n",
              "  <thead>\n",
              "    <tr style=\"text-align: right;\">\n",
              "      <th></th>\n",
              "      <th>id</th>\n",
              "      <th>track_name</th>\n",
              "      <th>artist_name</th>\n",
              "      <th>uri</th>\n",
              "    </tr>\n",
              "  </thead>\n",
              "  <tbody>\n",
              "    <tr>\n",
              "      <th>0</th>\n",
              "      <td>3B54sVLJ402zGa6Xm4YGNe</td>\n",
              "      <td>Unforgettable</td>\n",
              "      <td>French Montana</td>\n",
              "      <td>spotify:track:3B54sVLJ402zGa6Xm4YGNe</td>\n",
              "    </tr>\n",
              "    <tr>\n",
              "      <th>1</th>\n",
              "      <td>7hxHWCCAIIxFLCzvDgnQHX</td>\n",
              "      <td>Lemonade (feat. Gunna, Don Toliver &amp; NAV)</td>\n",
              "      <td>Internet Money</td>\n",
              "      <td>spotify:track:7hxHWCCAIIxFLCzvDgnQHX</td>\n",
              "    </tr>\n",
              "    <tr>\n",
              "      <th>2</th>\n",
              "      <td>7xQAfvXzm3AkraOtGPWIZg</td>\n",
              "      <td>Wow.</td>\n",
              "      <td>Post Malone</td>\n",
              "      <td>spotify:track:7xQAfvXzm3AkraOtGPWIZg</td>\n",
              "    </tr>\n",
              "    <tr>\n",
              "      <th>3</th>\n",
              "      <td>7MJQ9Nfxzh8LPZ9e9u68Fq</td>\n",
              "      <td>Lose Yourself</td>\n",
              "      <td>Various Artists</td>\n",
              "      <td>spotify:track:7MJQ9Nfxzh8LPZ9e9u68Fq</td>\n",
              "    </tr>\n",
              "    <tr>\n",
              "      <th>4</th>\n",
              "      <td>7Ie9W94M7OjPoZVV216Xus</td>\n",
              "      <td>Not Afraid</td>\n",
              "      <td>Eminem</td>\n",
              "      <td>spotify:track:7Ie9W94M7OjPoZVV216Xus</td>\n",
              "    </tr>\n",
              "    <tr>\n",
              "      <th>5</th>\n",
              "      <td>3Ofmpyhv5UAQ70mENzB277</td>\n",
              "      <td>Astronaut In The Ocean</td>\n",
              "      <td>Masked Wolf</td>\n",
              "      <td>spotify:track:3Ofmpyhv5UAQ70mENzB277</td>\n",
              "    </tr>\n",
              "    <tr>\n",
              "      <th>6</th>\n",
              "      <td>3I3WY0C7AQMe6Z6hMUQqd5</td>\n",
              "      <td>Vals De Rodrigues</td>\n",
              "      <td>Eric Badanti</td>\n",
              "      <td>spotify:track:3I3WY0C7AQMe6Z6hMUQqd5</td>\n",
              "    </tr>\n",
              "    <tr>\n",
              "      <th>7</th>\n",
              "      <td>2eMqU82D3OleCi2SulF2Og</td>\n",
              "      <td>Reveries</td>\n",
              "      <td>Haelg</td>\n",
              "      <td>spotify:track:2eMqU82D3OleCi2SulF2Og</td>\n",
              "    </tr>\n",
              "    <tr>\n",
              "      <th>8</th>\n",
              "      <td>3pJnfyKoVePwVmljB6Wun1</td>\n",
              "      <td>Sea Change</td>\n",
              "      <td>Stephan Moccio</td>\n",
              "      <td>spotify:track:3pJnfyKoVePwVmljB6Wun1</td>\n",
              "    </tr>\n",
              "    <tr>\n",
              "      <th>9</th>\n",
              "      <td>6DCZcSspjsKoFjzjrWoCdn</td>\n",
              "      <td>God's Plan</td>\n",
              "      <td>Drake</td>\n",
              "      <td>spotify:track:6DCZcSspjsKoFjzjrWoCdn</td>\n",
              "    </tr>\n",
              "    <tr>\n",
              "      <th>0</th>\n",
              "      <td>0UaMYEvWZi0ZqiDOoHU3YI</td>\n",
              "      <td>Lose Control (feat. Ciara &amp; Fat Man Scoop)</td>\n",
              "      <td>Missy Elliott</td>\n",
              "      <td>spotify:track:0UaMYEvWZi0ZqiDOoHU3YI</td>\n",
              "    </tr>\n",
              "    <tr>\n",
              "      <th>1</th>\n",
              "      <td>6I9VzXrHxO9rA9A5euc8Ak</td>\n",
              "      <td>Toxic</td>\n",
              "      <td>Britney Spears</td>\n",
              "      <td>spotify:track:6I9VzXrHxO9rA9A5euc8Ak</td>\n",
              "    </tr>\n",
              "    <tr>\n",
              "      <th>2</th>\n",
              "      <td>0WqIKmW4BTrj3eJFmnCKMv</td>\n",
              "      <td>Crazy In Love</td>\n",
              "      <td>Beyoncé</td>\n",
              "      <td>spotify:track:0WqIKmW4BTrj3eJFmnCKMv</td>\n",
              "    </tr>\n",
              "    <tr>\n",
              "      <th>3</th>\n",
              "      <td>1AWQoqb9bSvzTjaLralEkT</td>\n",
              "      <td>Rock Your Body</td>\n",
              "      <td>Justin Timberlake</td>\n",
              "      <td>spotify:track:1AWQoqb9bSvzTjaLralEkT</td>\n",
              "    </tr>\n",
              "    <tr>\n",
              "      <th>4</th>\n",
              "      <td>1lzr43nnXAijIGYnCT8M8H</td>\n",
              "      <td>It Wasn't Me</td>\n",
              "      <td>Shaggy</td>\n",
              "      <td>spotify:track:1lzr43nnXAijIGYnCT8M8H</td>\n",
              "    </tr>\n",
              "  </tbody>\n",
              "</table>\n",
              "</div>"
            ],
            "text/plain": [
              "                       id                                  track_name  \\\n",
              "0  3B54sVLJ402zGa6Xm4YGNe                               Unforgettable   \n",
              "1  7hxHWCCAIIxFLCzvDgnQHX   Lemonade (feat. Gunna, Don Toliver & NAV)   \n",
              "2  7xQAfvXzm3AkraOtGPWIZg                                        Wow.   \n",
              "3  7MJQ9Nfxzh8LPZ9e9u68Fq                               Lose Yourself   \n",
              "4  7Ie9W94M7OjPoZVV216Xus                                  Not Afraid   \n",
              "5  3Ofmpyhv5UAQ70mENzB277                      Astronaut In The Ocean   \n",
              "6  3I3WY0C7AQMe6Z6hMUQqd5                           Vals De Rodrigues   \n",
              "7  2eMqU82D3OleCi2SulF2Og                                    Reveries   \n",
              "8  3pJnfyKoVePwVmljB6Wun1                                  Sea Change   \n",
              "9  6DCZcSspjsKoFjzjrWoCdn                                  God's Plan   \n",
              "0  0UaMYEvWZi0ZqiDOoHU3YI  Lose Control (feat. Ciara & Fat Man Scoop)   \n",
              "1  6I9VzXrHxO9rA9A5euc8Ak                                       Toxic   \n",
              "2  0WqIKmW4BTrj3eJFmnCKMv                               Crazy In Love   \n",
              "3  1AWQoqb9bSvzTjaLralEkT                              Rock Your Body   \n",
              "4  1lzr43nnXAijIGYnCT8M8H                                It Wasn't Me   \n",
              "\n",
              "         artist_name                                   uri  \n",
              "0     French Montana  spotify:track:3B54sVLJ402zGa6Xm4YGNe  \n",
              "1     Internet Money  spotify:track:7hxHWCCAIIxFLCzvDgnQHX  \n",
              "2        Post Malone  spotify:track:7xQAfvXzm3AkraOtGPWIZg  \n",
              "3    Various Artists  spotify:track:7MJQ9Nfxzh8LPZ9e9u68Fq  \n",
              "4             Eminem  spotify:track:7Ie9W94M7OjPoZVV216Xus  \n",
              "5        Masked Wolf  spotify:track:3Ofmpyhv5UAQ70mENzB277  \n",
              "6       Eric Badanti  spotify:track:3I3WY0C7AQMe6Z6hMUQqd5  \n",
              "7              Haelg  spotify:track:2eMqU82D3OleCi2SulF2Og  \n",
              "8     Stephan Moccio  spotify:track:3pJnfyKoVePwVmljB6Wun1  \n",
              "9              Drake  spotify:track:6DCZcSspjsKoFjzjrWoCdn  \n",
              "0      Missy Elliott  spotify:track:0UaMYEvWZi0ZqiDOoHU3YI  \n",
              "1     Britney Spears  spotify:track:6I9VzXrHxO9rA9A5euc8Ak  \n",
              "2            Beyoncé  spotify:track:0WqIKmW4BTrj3eJFmnCKMv  \n",
              "3  Justin Timberlake  spotify:track:1AWQoqb9bSvzTjaLralEkT  \n",
              "4             Shaggy  spotify:track:1lzr43nnXAijIGYnCT8M8H  "
            ]
          },
          "metadata": {
            "tags": []
          },
          "execution_count": 308
        }
      ]
    },
    {
      "cell_type": "code",
      "metadata": {
        "id": "clJk9rxyJUjs"
      },
      "source": [
        "def clean_data(x):\n",
        "  if isinstance(x, list):\n",
        "    return [str.lower(i.replace(\" \", \"\")) for i in x]\n",
        "  else:\n",
        "    if isinstance(x, str):\n",
        "      return str.lower(x.replace(\" \", \"\"))\n",
        "    else:\n",
        "      return ''"
      ],
      "execution_count": null,
      "outputs": []
    },
    {
      "cell_type": "code",
      "metadata": {
        "id": "Yl6H3HiUJ_nr"
      },
      "source": [
        "features = ['track_name', 'artist_name']\n",
        "for feature in features:\n",
        "  df_allText[feature] = df_allText[feature].apply(clean_data)"
      ],
      "execution_count": null,
      "outputs": []
    },
    {
      "cell_type": "code",
      "metadata": {
        "colab": {
          "base_uri": "https://localhost:8080/",
          "height": 514
        },
        "id": "T8w8P6-fKVBv",
        "outputId": "cbf1ceb6-d884-4159-e52e-8f1047144da2"
      },
      "source": [
        "df_allText.head(15)"
      ],
      "execution_count": null,
      "outputs": [
        {
          "output_type": "execute_result",
          "data": {
            "text/html": [
              "<div>\n",
              "<style scoped>\n",
              "    .dataframe tbody tr th:only-of-type {\n",
              "        vertical-align: middle;\n",
              "    }\n",
              "\n",
              "    .dataframe tbody tr th {\n",
              "        vertical-align: top;\n",
              "    }\n",
              "\n",
              "    .dataframe thead th {\n",
              "        text-align: right;\n",
              "    }\n",
              "</style>\n",
              "<table border=\"1\" class=\"dataframe\">\n",
              "  <thead>\n",
              "    <tr style=\"text-align: right;\">\n",
              "      <th></th>\n",
              "      <th>id</th>\n",
              "      <th>track_name</th>\n",
              "      <th>artist_name</th>\n",
              "      <th>uri</th>\n",
              "    </tr>\n",
              "  </thead>\n",
              "  <tbody>\n",
              "    <tr>\n",
              "      <th>0</th>\n",
              "      <td>3B54sVLJ402zGa6Xm4YGNe</td>\n",
              "      <td>unforgettable</td>\n",
              "      <td>frenchmontana</td>\n",
              "      <td>spotify:track:3B54sVLJ402zGa6Xm4YGNe</td>\n",
              "    </tr>\n",
              "    <tr>\n",
              "      <th>1</th>\n",
              "      <td>7hxHWCCAIIxFLCzvDgnQHX</td>\n",
              "      <td>lemonade(feat.gunna,dontoliver&amp;nav)</td>\n",
              "      <td>internetmoney</td>\n",
              "      <td>spotify:track:7hxHWCCAIIxFLCzvDgnQHX</td>\n",
              "    </tr>\n",
              "    <tr>\n",
              "      <th>2</th>\n",
              "      <td>7xQAfvXzm3AkraOtGPWIZg</td>\n",
              "      <td>wow.</td>\n",
              "      <td>postmalone</td>\n",
              "      <td>spotify:track:7xQAfvXzm3AkraOtGPWIZg</td>\n",
              "    </tr>\n",
              "    <tr>\n",
              "      <th>3</th>\n",
              "      <td>7MJQ9Nfxzh8LPZ9e9u68Fq</td>\n",
              "      <td>loseyourself</td>\n",
              "      <td>variousartists</td>\n",
              "      <td>spotify:track:7MJQ9Nfxzh8LPZ9e9u68Fq</td>\n",
              "    </tr>\n",
              "    <tr>\n",
              "      <th>4</th>\n",
              "      <td>7Ie9W94M7OjPoZVV216Xus</td>\n",
              "      <td>notafraid</td>\n",
              "      <td>eminem</td>\n",
              "      <td>spotify:track:7Ie9W94M7OjPoZVV216Xus</td>\n",
              "    </tr>\n",
              "    <tr>\n",
              "      <th>5</th>\n",
              "      <td>3Ofmpyhv5UAQ70mENzB277</td>\n",
              "      <td>astronautintheocean</td>\n",
              "      <td>maskedwolf</td>\n",
              "      <td>spotify:track:3Ofmpyhv5UAQ70mENzB277</td>\n",
              "    </tr>\n",
              "    <tr>\n",
              "      <th>6</th>\n",
              "      <td>3I3WY0C7AQMe6Z6hMUQqd5</td>\n",
              "      <td>valsderodrigues</td>\n",
              "      <td>ericbadanti</td>\n",
              "      <td>spotify:track:3I3WY0C7AQMe6Z6hMUQqd5</td>\n",
              "    </tr>\n",
              "    <tr>\n",
              "      <th>7</th>\n",
              "      <td>2eMqU82D3OleCi2SulF2Og</td>\n",
              "      <td>reveries</td>\n",
              "      <td>haelg</td>\n",
              "      <td>spotify:track:2eMqU82D3OleCi2SulF2Og</td>\n",
              "    </tr>\n",
              "    <tr>\n",
              "      <th>8</th>\n",
              "      <td>3pJnfyKoVePwVmljB6Wun1</td>\n",
              "      <td>seachange</td>\n",
              "      <td>stephanmoccio</td>\n",
              "      <td>spotify:track:3pJnfyKoVePwVmljB6Wun1</td>\n",
              "    </tr>\n",
              "    <tr>\n",
              "      <th>9</th>\n",
              "      <td>6DCZcSspjsKoFjzjrWoCdn</td>\n",
              "      <td>god'splan</td>\n",
              "      <td>drake</td>\n",
              "      <td>spotify:track:6DCZcSspjsKoFjzjrWoCdn</td>\n",
              "    </tr>\n",
              "    <tr>\n",
              "      <th>0</th>\n",
              "      <td>0UaMYEvWZi0ZqiDOoHU3YI</td>\n",
              "      <td>losecontrol(feat.ciara&amp;fatmanscoop)</td>\n",
              "      <td>missyelliott</td>\n",
              "      <td>spotify:track:0UaMYEvWZi0ZqiDOoHU3YI</td>\n",
              "    </tr>\n",
              "    <tr>\n",
              "      <th>1</th>\n",
              "      <td>6I9VzXrHxO9rA9A5euc8Ak</td>\n",
              "      <td>toxic</td>\n",
              "      <td>britneyspears</td>\n",
              "      <td>spotify:track:6I9VzXrHxO9rA9A5euc8Ak</td>\n",
              "    </tr>\n",
              "    <tr>\n",
              "      <th>2</th>\n",
              "      <td>0WqIKmW4BTrj3eJFmnCKMv</td>\n",
              "      <td>crazyinlove</td>\n",
              "      <td>beyoncé</td>\n",
              "      <td>spotify:track:0WqIKmW4BTrj3eJFmnCKMv</td>\n",
              "    </tr>\n",
              "    <tr>\n",
              "      <th>3</th>\n",
              "      <td>1AWQoqb9bSvzTjaLralEkT</td>\n",
              "      <td>rockyourbody</td>\n",
              "      <td>justintimberlake</td>\n",
              "      <td>spotify:track:1AWQoqb9bSvzTjaLralEkT</td>\n",
              "    </tr>\n",
              "    <tr>\n",
              "      <th>4</th>\n",
              "      <td>1lzr43nnXAijIGYnCT8M8H</td>\n",
              "      <td>itwasn'tme</td>\n",
              "      <td>shaggy</td>\n",
              "      <td>spotify:track:1lzr43nnXAijIGYnCT8M8H</td>\n",
              "    </tr>\n",
              "  </tbody>\n",
              "</table>\n",
              "</div>"
            ],
            "text/plain": [
              "                       id                           track_name  \\\n",
              "0  3B54sVLJ402zGa6Xm4YGNe                        unforgettable   \n",
              "1  7hxHWCCAIIxFLCzvDgnQHX  lemonade(feat.gunna,dontoliver&nav)   \n",
              "2  7xQAfvXzm3AkraOtGPWIZg                                 wow.   \n",
              "3  7MJQ9Nfxzh8LPZ9e9u68Fq                         loseyourself   \n",
              "4  7Ie9W94M7OjPoZVV216Xus                            notafraid   \n",
              "5  3Ofmpyhv5UAQ70mENzB277                  astronautintheocean   \n",
              "6  3I3WY0C7AQMe6Z6hMUQqd5                      valsderodrigues   \n",
              "7  2eMqU82D3OleCi2SulF2Og                             reveries   \n",
              "8  3pJnfyKoVePwVmljB6Wun1                            seachange   \n",
              "9  6DCZcSspjsKoFjzjrWoCdn                            god'splan   \n",
              "0  0UaMYEvWZi0ZqiDOoHU3YI  losecontrol(feat.ciara&fatmanscoop)   \n",
              "1  6I9VzXrHxO9rA9A5euc8Ak                                toxic   \n",
              "2  0WqIKmW4BTrj3eJFmnCKMv                          crazyinlove   \n",
              "3  1AWQoqb9bSvzTjaLralEkT                         rockyourbody   \n",
              "4  1lzr43nnXAijIGYnCT8M8H                           itwasn'tme   \n",
              "\n",
              "        artist_name                                   uri  \n",
              "0     frenchmontana  spotify:track:3B54sVLJ402zGa6Xm4YGNe  \n",
              "1     internetmoney  spotify:track:7hxHWCCAIIxFLCzvDgnQHX  \n",
              "2        postmalone  spotify:track:7xQAfvXzm3AkraOtGPWIZg  \n",
              "3    variousartists  spotify:track:7MJQ9Nfxzh8LPZ9e9u68Fq  \n",
              "4            eminem  spotify:track:7Ie9W94M7OjPoZVV216Xus  \n",
              "5        maskedwolf  spotify:track:3Ofmpyhv5UAQ70mENzB277  \n",
              "6       ericbadanti  spotify:track:3I3WY0C7AQMe6Z6hMUQqd5  \n",
              "7             haelg  spotify:track:2eMqU82D3OleCi2SulF2Og  \n",
              "8     stephanmoccio  spotify:track:3pJnfyKoVePwVmljB6Wun1  \n",
              "9             drake  spotify:track:6DCZcSspjsKoFjzjrWoCdn  \n",
              "0      missyelliott  spotify:track:0UaMYEvWZi0ZqiDOoHU3YI  \n",
              "1     britneyspears  spotify:track:6I9VzXrHxO9rA9A5euc8Ak  \n",
              "2           beyoncé  spotify:track:0WqIKmW4BTrj3eJFmnCKMv  \n",
              "3  justintimberlake  spotify:track:1AWQoqb9bSvzTjaLralEkT  \n",
              "4            shaggy  spotify:track:1lzr43nnXAijIGYnCT8M8H  "
            ]
          },
          "metadata": {
            "tags": []
          },
          "execution_count": 311
        }
      ]
    },
    {
      "cell_type": "code",
      "metadata": {
        "colab": {
          "base_uri": "https://localhost:8080/",
          "height": 204
        },
        "id": "DJcIvQM2Wd6t",
        "outputId": "f0b85870-0163-41eb-f183-73bc9df0a608"
      },
      "source": [
        "df_notStoredTracksText.head()"
      ],
      "execution_count": null,
      "outputs": [
        {
          "output_type": "execute_result",
          "data": {
            "text/html": [
              "<div>\n",
              "<style scoped>\n",
              "    .dataframe tbody tr th:only-of-type {\n",
              "        vertical-align: middle;\n",
              "    }\n",
              "\n",
              "    .dataframe tbody tr th {\n",
              "        vertical-align: top;\n",
              "    }\n",
              "\n",
              "    .dataframe thead th {\n",
              "        text-align: right;\n",
              "    }\n",
              "</style>\n",
              "<table border=\"1\" class=\"dataframe\">\n",
              "  <thead>\n",
              "    <tr style=\"text-align: right;\">\n",
              "      <th></th>\n",
              "      <th>id</th>\n",
              "      <th>track_name</th>\n",
              "      <th>artist_name</th>\n",
              "      <th>uri</th>\n",
              "    </tr>\n",
              "  </thead>\n",
              "  <tbody>\n",
              "    <tr>\n",
              "      <th>0</th>\n",
              "      <td>0UaMYEvWZi0ZqiDOoHU3YI</td>\n",
              "      <td>losecontrol(feat.ciara&amp;fatmanscoop)</td>\n",
              "      <td>missyelliott</td>\n",
              "      <td>spotify:track:0UaMYEvWZi0ZqiDOoHU3YI</td>\n",
              "    </tr>\n",
              "    <tr>\n",
              "      <th>1</th>\n",
              "      <td>6I9VzXrHxO9rA9A5euc8Ak</td>\n",
              "      <td>toxic</td>\n",
              "      <td>britneyspears</td>\n",
              "      <td>spotify:track:6I9VzXrHxO9rA9A5euc8Ak</td>\n",
              "    </tr>\n",
              "    <tr>\n",
              "      <th>2</th>\n",
              "      <td>0WqIKmW4BTrj3eJFmnCKMv</td>\n",
              "      <td>crazyinlove</td>\n",
              "      <td>beyoncé</td>\n",
              "      <td>spotify:track:0WqIKmW4BTrj3eJFmnCKMv</td>\n",
              "    </tr>\n",
              "    <tr>\n",
              "      <th>3</th>\n",
              "      <td>1AWQoqb9bSvzTjaLralEkT</td>\n",
              "      <td>rockyourbody</td>\n",
              "      <td>justintimberlake</td>\n",
              "      <td>spotify:track:1AWQoqb9bSvzTjaLralEkT</td>\n",
              "    </tr>\n",
              "    <tr>\n",
              "      <th>4</th>\n",
              "      <td>1lzr43nnXAijIGYnCT8M8H</td>\n",
              "      <td>itwasn'tme</td>\n",
              "      <td>shaggy</td>\n",
              "      <td>spotify:track:1lzr43nnXAijIGYnCT8M8H</td>\n",
              "    </tr>\n",
              "  </tbody>\n",
              "</table>\n",
              "</div>"
            ],
            "text/plain": [
              "                       id                           track_name  \\\n",
              "0  0UaMYEvWZi0ZqiDOoHU3YI  losecontrol(feat.ciara&fatmanscoop)   \n",
              "1  6I9VzXrHxO9rA9A5euc8Ak                                toxic   \n",
              "2  0WqIKmW4BTrj3eJFmnCKMv                          crazyinlove   \n",
              "3  1AWQoqb9bSvzTjaLralEkT                         rockyourbody   \n",
              "4  1lzr43nnXAijIGYnCT8M8H                           itwasn'tme   \n",
              "\n",
              "        artist_name                                   uri  \n",
              "0      missyelliott  spotify:track:0UaMYEvWZi0ZqiDOoHU3YI  \n",
              "1     britneyspears  spotify:track:6I9VzXrHxO9rA9A5euc8Ak  \n",
              "2           beyoncé  spotify:track:0WqIKmW4BTrj3eJFmnCKMv  \n",
              "3  justintimberlake  spotify:track:1AWQoqb9bSvzTjaLralEkT  \n",
              "4            shaggy  spotify:track:1lzr43nnXAijIGYnCT8M8H  "
            ]
          },
          "metadata": {
            "tags": []
          },
          "execution_count": 207
        }
      ]
    },
    {
      "cell_type": "code",
      "metadata": {
        "id": "9ARfGHY3Ki75",
        "colab": {
          "base_uri": "https://localhost:8080/",
          "height": 111
        },
        "outputId": "7afdb86b-8a8e-4257-d07d-f323f3581852"
      },
      "source": [
        "def create_soup(x):\n",
        "  return x['track_name'] + ' ' + x['artist_name']\n",
        "\n",
        "df_allText['soup'] = df_allText.apply(create_soup, axis=1)\n",
        "df_allText[['soup']].head(2)"
      ],
      "execution_count": null,
      "outputs": [
        {
          "output_type": "execute_result",
          "data": {
            "text/html": [
              "<div>\n",
              "<style scoped>\n",
              "    .dataframe tbody tr th:only-of-type {\n",
              "        vertical-align: middle;\n",
              "    }\n",
              "\n",
              "    .dataframe tbody tr th {\n",
              "        vertical-align: top;\n",
              "    }\n",
              "\n",
              "    .dataframe thead th {\n",
              "        text-align: right;\n",
              "    }\n",
              "</style>\n",
              "<table border=\"1\" class=\"dataframe\">\n",
              "  <thead>\n",
              "    <tr style=\"text-align: right;\">\n",
              "      <th></th>\n",
              "      <th>soup</th>\n",
              "    </tr>\n",
              "  </thead>\n",
              "  <tbody>\n",
              "    <tr>\n",
              "      <th>0</th>\n",
              "      <td>unforgettable frenchmontana</td>\n",
              "    </tr>\n",
              "    <tr>\n",
              "      <th>1</th>\n",
              "      <td>lemonade(feat.gunna,dontoliver&amp;nav) internetmoney</td>\n",
              "    </tr>\n",
              "  </tbody>\n",
              "</table>\n",
              "</div>"
            ],
            "text/plain": [
              "                                                soup\n",
              "0                        unforgettable frenchmontana\n",
              "1  lemonade(feat.gunna,dontoliver&nav) internetmoney"
            ]
          },
          "metadata": {
            "tags": []
          },
          "execution_count": 137
        }
      ]
    },
    {
      "cell_type": "code",
      "metadata": {
        "colab": {
          "base_uri": "https://localhost:8080/"
        },
        "id": "HOPdeUz3Xk0w",
        "outputId": "be9bb407-ce2c-4a26-fb35-3437d6c33d05"
      },
      "source": [
        "count = CountVectorizer(stop_words = 'english')\n",
        "count_matrix = count.fit_transform(df_allText['soup'])\n",
        "count_matrix.shape"
      ],
      "execution_count": null,
      "outputs": [
        {
          "output_type": "execute_result",
          "data": {
            "text/plain": [
              "(14348, 19939)"
            ]
          },
          "metadata": {
            "tags": []
          },
          "execution_count": 138
        }
      ]
    },
    {
      "cell_type": "code",
      "metadata": {
        "id": "DbFaWvXeBAv5"
      },
      "source": [
        "cosine_sim = cosine_similarity(count_matrix, count_matrix)"
      ],
      "execution_count": null,
      "outputs": []
    },
    {
      "cell_type": "code",
      "metadata": {
        "id": "F1q4OXDyYHEZ"
      },
      "source": [
        "indices = pd.Series(df_allText.index, index=df_allText['uri'])"
      ],
      "execution_count": null,
      "outputs": []
    },
    {
      "cell_type": "code",
      "metadata": {
        "id": "PQlkODXVYSok",
        "colab": {
          "base_uri": "https://localhost:8080/"
        },
        "outputId": "08dbea78-544f-44a6-a67e-314f60070935"
      },
      "source": [
        "indices[:30]"
      ],
      "execution_count": null,
      "outputs": [
        {
          "output_type": "execute_result",
          "data": {
            "text/plain": [
              "uri\n",
              "spotify:track:7w9bgPAmPTtrkt2v16QWvQ     1925\n",
              "spotify:track:4hEl2wrneFEJbJ6SDYWd2f      673\n",
              "spotify:track:4Re0d3C9jBhdXX0e12FdYu     7264\n",
              "spotify:track:0Qw0J8pQHyA8pmYgs75RdE    13284\n",
              "spotify:track:3DnLGuX4YU3PGein8vo5Zt    10461\n",
              "spotify:track:4Re0d3C9jBhdXX0e12FdYu     7264\n",
              "spotify:track:7DI5lUQ13KXtmD1UkG70dT    10455\n",
              "spotify:track:33R4sgQiAg8anGWc06juRD      938\n",
              "spotify:track:0QJny1mMiQklvwaUmIwp0d    13306\n",
              "spotify:track:1gTpngtG7wJGnGmlgKZ0ew    10602\n",
              "spotify:track:33QqRNli0suoq8lBTy4ZTm     6125\n",
              "spotify:track:7fBUnDgtSvYpYWuX4iAfns     3762\n",
              "spotify:track:1kFlDnWmBTvCBxxeGDpIdp     9065\n",
              "spotify:track:0yxnjcQcwlSiozp89EdcNA     8061\n",
              "spotify:track:5AftJmmIpgmEMGkBtO69m7     2978\n",
              "dtype: int64"
            ]
          },
          "metadata": {
            "tags": []
          },
          "execution_count": 125
        }
      ]
    },
    {
      "cell_type": "code",
      "metadata": {
        "id": "jWsQ3JEeYeb1"
      },
      "source": [
        "def get_recommendations(track_uri, cosine_sim=cosine_sim):\n",
        "  idx = indices[track_uri]\n",
        "  sim_scores = list(enumerate(cosine_sim[idx]))\n",
        "  sim_scores = sorted(sim_scores, key=lambda x: x[1], reverse=True)\n",
        "  sim_scores = sim_scores[1:11]\n",
        "  track_indices = [i[0] for i in sim_scores]\n",
        "  return df_notStoredTracksComplete.iloc[track_indices]"
      ],
      "execution_count": null,
      "outputs": []
    },
    {
      "cell_type": "code",
      "metadata": {
        "id": "e0d4Ywh4awLr"
      },
      "source": [
        "df_notStoredTracksCompleteNew = get_recommendations('spotify:track:6DCZcSspjsKoFjzjrWoCdn')"
      ],
      "execution_count": null,
      "outputs": []
    },
    {
      "cell_type": "code",
      "metadata": {
        "colab": {
          "base_uri": "https://localhost:8080/",
          "height": 566
        },
        "id": "yyFMa7-n1TeG",
        "outputId": "e37c9301-2670-4ef3-8424-2b525c582dc4"
      },
      "source": [
        "df_notStoredTracksCompleteNew"
      ],
      "execution_count": null,
      "outputs": [
        {
          "output_type": "execute_result",
          "data": {
            "text/html": [
              "<div>\n",
              "<style scoped>\n",
              "    .dataframe tbody tr th:only-of-type {\n",
              "        vertical-align: middle;\n",
              "    }\n",
              "\n",
              "    .dataframe tbody tr th {\n",
              "        vertical-align: top;\n",
              "    }\n",
              "\n",
              "    .dataframe thead th {\n",
              "        text-align: right;\n",
              "    }\n",
              "</style>\n",
              "<table border=\"1\" class=\"dataframe\">\n",
              "  <thead>\n",
              "    <tr style=\"text-align: right;\">\n",
              "      <th></th>\n",
              "      <th>id</th>\n",
              "      <th>track_name</th>\n",
              "      <th>artist_name</th>\n",
              "      <th>danceability</th>\n",
              "      <th>energy</th>\n",
              "      <th>key</th>\n",
              "      <th>loudness</th>\n",
              "      <th>mode</th>\n",
              "      <th>speechiness</th>\n",
              "      <th>acousticness</th>\n",
              "      <th>instrumentalness</th>\n",
              "      <th>liveness</th>\n",
              "      <th>valence</th>\n",
              "      <th>tempo</th>\n",
              "      <th>type</th>\n",
              "      <th>uri</th>\n",
              "      <th>track_href</th>\n",
              "      <th>analysis_url</th>\n",
              "      <th>duration_ms</th>\n",
              "      <th>time_signature</th>\n",
              "    </tr>\n",
              "  </thead>\n",
              "  <tbody>\n",
              "    <tr>\n",
              "      <th>10393</th>\n",
              "      <td>0e1Mjg7pA1J1f50W9kG63N</td>\n",
              "      <td>Best of Times ft. Phonte</td>\n",
              "      <td>Strong Arm Steady</td>\n",
              "      <td>0.557</td>\n",
              "      <td>0.666</td>\n",
              "      <td>8.0</td>\n",
              "      <td>-8.498</td>\n",
              "      <td>1.0</td>\n",
              "      <td>0.1550</td>\n",
              "      <td>0.0932</td>\n",
              "      <td>0.000000</td>\n",
              "      <td>0.4660</td>\n",
              "      <td>0.812</td>\n",
              "      <td>97.266</td>\n",
              "      <td>audio_features</td>\n",
              "      <td>spotify:track:0e1Mjg7pA1J1f50W9kG63N</td>\n",
              "      <td>https://api.spotify.com/v1/tracks/0e1Mjg7pA1J1f50W9kG63N</td>\n",
              "      <td>https://api.spotify.com/v1/audio-analysis/0e1Mjg7pA1J1f50W9kG63N</td>\n",
              "      <td>237040.0</td>\n",
              "      <td>4.0</td>\n",
              "    </tr>\n",
              "    <tr>\n",
              "      <th>319</th>\n",
              "      <td>1tbInvb7M0kUdlxfwh18qM</td>\n",
              "      <td>Canoe Canoa</td>\n",
              "      <td>Populous</td>\n",
              "      <td>0.712</td>\n",
              "      <td>0.467</td>\n",
              "      <td>4.0</td>\n",
              "      <td>-8.632</td>\n",
              "      <td>0.0</td>\n",
              "      <td>0.0342</td>\n",
              "      <td>0.0553</td>\n",
              "      <td>0.448000</td>\n",
              "      <td>0.0852</td>\n",
              "      <td>0.524</td>\n",
              "      <td>99.986</td>\n",
              "      <td>audio_features</td>\n",
              "      <td>spotify:track:1tbInvb7M0kUdlxfwh18qM</td>\n",
              "      <td>https://api.spotify.com/v1/tracks/1tbInvb7M0kUdlxfwh18qM</td>\n",
              "      <td>https://api.spotify.com/v1/audio-analysis/1tbInvb7M0kUdlxfwh18qM</td>\n",
              "      <td>177667.0</td>\n",
              "      <td>4.0</td>\n",
              "    </tr>\n",
              "    <tr>\n",
              "      <th>682</th>\n",
              "      <td>31G9RaSaDOI2NWcpnIp734</td>\n",
              "      <td>Goldie</td>\n",
              "      <td>A$AP Rocky</td>\n",
              "      <td>0.697</td>\n",
              "      <td>0.849</td>\n",
              "      <td>10.0</td>\n",
              "      <td>-4.953</td>\n",
              "      <td>0.0</td>\n",
              "      <td>0.2480</td>\n",
              "      <td>0.2280</td>\n",
              "      <td>0.000045</td>\n",
              "      <td>0.4930</td>\n",
              "      <td>0.734</td>\n",
              "      <td>81.956</td>\n",
              "      <td>audio_features</td>\n",
              "      <td>spotify:track:31G9RaSaDOI2NWcpnIp734</td>\n",
              "      <td>https://api.spotify.com/v1/tracks/31G9RaSaDOI2NWcpnIp734</td>\n",
              "      <td>https://api.spotify.com/v1/audio-analysis/31G9RaSaDOI2NWcpnIp734</td>\n",
              "      <td>192067.0</td>\n",
              "      <td>4.0</td>\n",
              "    </tr>\n",
              "    <tr>\n",
              "      <th>695</th>\n",
              "      <td>4cg1yakyRSIOjxKM2I7J1q</td>\n",
              "      <td>Digits</td>\n",
              "      <td>Young Thug</td>\n",
              "      <td>0.769</td>\n",
              "      <td>0.632</td>\n",
              "      <td>10.0</td>\n",
              "      <td>-4.228</td>\n",
              "      <td>0.0</td>\n",
              "      <td>0.0537</td>\n",
              "      <td>0.0325</td>\n",
              "      <td>0.000000</td>\n",
              "      <td>0.1160</td>\n",
              "      <td>0.294</td>\n",
              "      <td>131.932</td>\n",
              "      <td>audio_features</td>\n",
              "      <td>spotify:track:4cg1yakyRSIOjxKM2I7J1q</td>\n",
              "      <td>https://api.spotify.com/v1/tracks/4cg1yakyRSIOjxKM2I7J1q</td>\n",
              "      <td>https://api.spotify.com/v1/audio-analysis/4cg1yakyRSIOjxKM2I7J1q</td>\n",
              "      <td>176387.0</td>\n",
              "      <td>4.0</td>\n",
              "    </tr>\n",
              "    <tr>\n",
              "      <th>1313</th>\n",
              "      <td>3U9yv46nVSn3PkLsVcNIcA</td>\n",
              "      <td>Who Gon Stop Me</td>\n",
              "      <td>JAY Z</td>\n",
              "      <td>0.594</td>\n",
              "      <td>0.730</td>\n",
              "      <td>0.0</td>\n",
              "      <td>-4.638</td>\n",
              "      <td>0.0</td>\n",
              "      <td>0.1590</td>\n",
              "      <td>0.0408</td>\n",
              "      <td>0.000164</td>\n",
              "      <td>0.7150</td>\n",
              "      <td>0.378</td>\n",
              "      <td>133.880</td>\n",
              "      <td>audio_features</td>\n",
              "      <td>spotify:track:3U9yv46nVSn3PkLsVcNIcA</td>\n",
              "      <td>https://api.spotify.com/v1/tracks/3U9yv46nVSn3PkLsVcNIcA</td>\n",
              "      <td>https://api.spotify.com/v1/audio-analysis/3U9yv46nVSn3PkLsVcNIcA</td>\n",
              "      <td>256707.0</td>\n",
              "      <td>4.0</td>\n",
              "    </tr>\n",
              "    <tr>\n",
              "      <th>1479</th>\n",
              "      <td>6EdUE6TbcVzxfDnBZPTAg5</td>\n",
              "      <td>Fire Water Burn</td>\n",
              "      <td>Bloodhound Gang</td>\n",
              "      <td>0.687</td>\n",
              "      <td>0.565</td>\n",
              "      <td>7.0</td>\n",
              "      <td>-9.613</td>\n",
              "      <td>1.0</td>\n",
              "      <td>0.0316</td>\n",
              "      <td>0.0682</td>\n",
              "      <td>0.599000</td>\n",
              "      <td>0.1010</td>\n",
              "      <td>0.613</td>\n",
              "      <td>97.084</td>\n",
              "      <td>audio_features</td>\n",
              "      <td>spotify:track:6EdUE6TbcVzxfDnBZPTAg5</td>\n",
              "      <td>https://api.spotify.com/v1/tracks/6EdUE6TbcVzxfDnBZPTAg5</td>\n",
              "      <td>https://api.spotify.com/v1/audio-analysis/6EdUE6TbcVzxfDnBZPTAg5</td>\n",
              "      <td>291800.0</td>\n",
              "      <td>4.0</td>\n",
              "    </tr>\n",
              "    <tr>\n",
              "      <th>1506</th>\n",
              "      <td>24b20V609aI0WJ8LyxR8qx</td>\n",
              "      <td>The Game &amp; Skrillex: El Chapo</td>\n",
              "      <td>The Game</td>\n",
              "      <td>0.754</td>\n",
              "      <td>0.909</td>\n",
              "      <td>6.0</td>\n",
              "      <td>-3.323</td>\n",
              "      <td>0.0</td>\n",
              "      <td>0.2300</td>\n",
              "      <td>0.1380</td>\n",
              "      <td>0.000000</td>\n",
              "      <td>0.2810</td>\n",
              "      <td>0.591</td>\n",
              "      <td>126.994</td>\n",
              "      <td>audio_features</td>\n",
              "      <td>spotify:track:24b20V609aI0WJ8LyxR8qx</td>\n",
              "      <td>https://api.spotify.com/v1/tracks/24b20V609aI0WJ8LyxR8qx</td>\n",
              "      <td>https://api.spotify.com/v1/audio-analysis/24b20V609aI0WJ8LyxR8qx</td>\n",
              "      <td>220079.0</td>\n",
              "      <td>4.0</td>\n",
              "    </tr>\n",
              "    <tr>\n",
              "      <th>1510</th>\n",
              "      <td>40oKW22ZNNkEdZLJTScaQI</td>\n",
              "      <td>Roll In Peace (feat. XXXTENTACION)</td>\n",
              "      <td>Kodak Black</td>\n",
              "      <td>0.747</td>\n",
              "      <td>0.524</td>\n",
              "      <td>10.0</td>\n",
              "      <td>-6.807</td>\n",
              "      <td>0.0</td>\n",
              "      <td>0.2450</td>\n",
              "      <td>0.0306</td>\n",
              "      <td>0.000000</td>\n",
              "      <td>0.2000</td>\n",
              "      <td>0.363</td>\n",
              "      <td>140.053</td>\n",
              "      <td>audio_features</td>\n",
              "      <td>spotify:track:40oKW22ZNNkEdZLJTScaQI</td>\n",
              "      <td>https://api.spotify.com/v1/tracks/40oKW22ZNNkEdZLJTScaQI</td>\n",
              "      <td>https://api.spotify.com/v1/audio-analysis/40oKW22ZNNkEdZLJTScaQI</td>\n",
              "      <td>213132.0</td>\n",
              "      <td>4.0</td>\n",
              "    </tr>\n",
              "    <tr>\n",
              "      <th>1512</th>\n",
              "      <td>75GQIYnRaBg7ndHxhfYuQy</td>\n",
              "      <td>Go All The Way</td>\n",
              "      <td>Raspberries</td>\n",
              "      <td>0.305</td>\n",
              "      <td>0.849</td>\n",
              "      <td>9.0</td>\n",
              "      <td>-4.892</td>\n",
              "      <td>1.0</td>\n",
              "      <td>0.0999</td>\n",
              "      <td>0.5480</td>\n",
              "      <td>0.000134</td>\n",
              "      <td>0.0995</td>\n",
              "      <td>0.555</td>\n",
              "      <td>134.287</td>\n",
              "      <td>audio_features</td>\n",
              "      <td>spotify:track:75GQIYnRaBg7ndHxhfYuQy</td>\n",
              "      <td>https://api.spotify.com/v1/tracks/75GQIYnRaBg7ndHxhfYuQy</td>\n",
              "      <td>https://api.spotify.com/v1/audio-analysis/75GQIYnRaBg7ndHxhfYuQy</td>\n",
              "      <td>205347.0</td>\n",
              "      <td>4.0</td>\n",
              "    </tr>\n",
              "    <tr>\n",
              "      <th>1518</th>\n",
              "      <td>7Dm3dV3WPNdTgxoNY7YFnc</td>\n",
              "      <td>The Chain - Remastered</td>\n",
              "      <td>Fleetwood Mac</td>\n",
              "      <td>0.522</td>\n",
              "      <td>0.755</td>\n",
              "      <td>9.0</td>\n",
              "      <td>-6.950</td>\n",
              "      <td>1.0</td>\n",
              "      <td>0.0524</td>\n",
              "      <td>0.0517</td>\n",
              "      <td>0.000066</td>\n",
              "      <td>0.0781</td>\n",
              "      <td>0.637</td>\n",
              "      <td>151.796</td>\n",
              "      <td>audio_features</td>\n",
              "      <td>spotify:track:7Dm3dV3WPNdTgxoNY7YFnc</td>\n",
              "      <td>https://api.spotify.com/v1/tracks/7Dm3dV3WPNdTgxoNY7YFnc</td>\n",
              "      <td>https://api.spotify.com/v1/audio-analysis/7Dm3dV3WPNdTgxoNY7YFnc</td>\n",
              "      <td>269813.0</td>\n",
              "      <td>4.0</td>\n",
              "    </tr>\n",
              "  </tbody>\n",
              "</table>\n",
              "</div>"
            ],
            "text/plain": [
              "                           id                          track_name  \\\n",
              "10393  0e1Mjg7pA1J1f50W9kG63N            Best of Times ft. Phonte   \n",
              "319    1tbInvb7M0kUdlxfwh18qM                         Canoe Canoa   \n",
              "682    31G9RaSaDOI2NWcpnIp734                              Goldie   \n",
              "695    4cg1yakyRSIOjxKM2I7J1q                              Digits   \n",
              "1313   3U9yv46nVSn3PkLsVcNIcA                     Who Gon Stop Me   \n",
              "1479   6EdUE6TbcVzxfDnBZPTAg5                     Fire Water Burn   \n",
              "1506   24b20V609aI0WJ8LyxR8qx       The Game & Skrillex: El Chapo   \n",
              "1510   40oKW22ZNNkEdZLJTScaQI  Roll In Peace (feat. XXXTENTACION)   \n",
              "1512   75GQIYnRaBg7ndHxhfYuQy                      Go All The Way   \n",
              "1518   7Dm3dV3WPNdTgxoNY7YFnc              The Chain - Remastered   \n",
              "\n",
              "             artist_name  danceability  energy   key  loudness  mode  \\\n",
              "10393  Strong Arm Steady         0.557   0.666   8.0    -8.498   1.0   \n",
              "319             Populous         0.712   0.467   4.0    -8.632   0.0   \n",
              "682           A$AP Rocky         0.697   0.849  10.0    -4.953   0.0   \n",
              "695           Young Thug         0.769   0.632  10.0    -4.228   0.0   \n",
              "1313               JAY Z         0.594   0.730   0.0    -4.638   0.0   \n",
              "1479     Bloodhound Gang         0.687   0.565   7.0    -9.613   1.0   \n",
              "1506            The Game         0.754   0.909   6.0    -3.323   0.0   \n",
              "1510         Kodak Black         0.747   0.524  10.0    -6.807   0.0   \n",
              "1512         Raspberries         0.305   0.849   9.0    -4.892   1.0   \n",
              "1518       Fleetwood Mac         0.522   0.755   9.0    -6.950   1.0   \n",
              "\n",
              "       speechiness  acousticness  instrumentalness  liveness  valence  \\\n",
              "10393       0.1550        0.0932          0.000000    0.4660    0.812   \n",
              "319         0.0342        0.0553          0.448000    0.0852    0.524   \n",
              "682         0.2480        0.2280          0.000045    0.4930    0.734   \n",
              "695         0.0537        0.0325          0.000000    0.1160    0.294   \n",
              "1313        0.1590        0.0408          0.000164    0.7150    0.378   \n",
              "1479        0.0316        0.0682          0.599000    0.1010    0.613   \n",
              "1506        0.2300        0.1380          0.000000    0.2810    0.591   \n",
              "1510        0.2450        0.0306          0.000000    0.2000    0.363   \n",
              "1512        0.0999        0.5480          0.000134    0.0995    0.555   \n",
              "1518        0.0524        0.0517          0.000066    0.0781    0.637   \n",
              "\n",
              "         tempo            type                                   uri  \\\n",
              "10393   97.266  audio_features  spotify:track:0e1Mjg7pA1J1f50W9kG63N   \n",
              "319     99.986  audio_features  spotify:track:1tbInvb7M0kUdlxfwh18qM   \n",
              "682     81.956  audio_features  spotify:track:31G9RaSaDOI2NWcpnIp734   \n",
              "695    131.932  audio_features  spotify:track:4cg1yakyRSIOjxKM2I7J1q   \n",
              "1313   133.880  audio_features  spotify:track:3U9yv46nVSn3PkLsVcNIcA   \n",
              "1479    97.084  audio_features  spotify:track:6EdUE6TbcVzxfDnBZPTAg5   \n",
              "1506   126.994  audio_features  spotify:track:24b20V609aI0WJ8LyxR8qx   \n",
              "1510   140.053  audio_features  spotify:track:40oKW22ZNNkEdZLJTScaQI   \n",
              "1512   134.287  audio_features  spotify:track:75GQIYnRaBg7ndHxhfYuQy   \n",
              "1518   151.796  audio_features  spotify:track:7Dm3dV3WPNdTgxoNY7YFnc   \n",
              "\n",
              "                                                     track_href  \\\n",
              "10393  https://api.spotify.com/v1/tracks/0e1Mjg7pA1J1f50W9kG63N   \n",
              "319    https://api.spotify.com/v1/tracks/1tbInvb7M0kUdlxfwh18qM   \n",
              "682    https://api.spotify.com/v1/tracks/31G9RaSaDOI2NWcpnIp734   \n",
              "695    https://api.spotify.com/v1/tracks/4cg1yakyRSIOjxKM2I7J1q   \n",
              "1313   https://api.spotify.com/v1/tracks/3U9yv46nVSn3PkLsVcNIcA   \n",
              "1479   https://api.spotify.com/v1/tracks/6EdUE6TbcVzxfDnBZPTAg5   \n",
              "1506   https://api.spotify.com/v1/tracks/24b20V609aI0WJ8LyxR8qx   \n",
              "1510   https://api.spotify.com/v1/tracks/40oKW22ZNNkEdZLJTScaQI   \n",
              "1512   https://api.spotify.com/v1/tracks/75GQIYnRaBg7ndHxhfYuQy   \n",
              "1518   https://api.spotify.com/v1/tracks/7Dm3dV3WPNdTgxoNY7YFnc   \n",
              "\n",
              "                                                           analysis_url  \\\n",
              "10393  https://api.spotify.com/v1/audio-analysis/0e1Mjg7pA1J1f50W9kG63N   \n",
              "319    https://api.spotify.com/v1/audio-analysis/1tbInvb7M0kUdlxfwh18qM   \n",
              "682    https://api.spotify.com/v1/audio-analysis/31G9RaSaDOI2NWcpnIp734   \n",
              "695    https://api.spotify.com/v1/audio-analysis/4cg1yakyRSIOjxKM2I7J1q   \n",
              "1313   https://api.spotify.com/v1/audio-analysis/3U9yv46nVSn3PkLsVcNIcA   \n",
              "1479   https://api.spotify.com/v1/audio-analysis/6EdUE6TbcVzxfDnBZPTAg5   \n",
              "1506   https://api.spotify.com/v1/audio-analysis/24b20V609aI0WJ8LyxR8qx   \n",
              "1510   https://api.spotify.com/v1/audio-analysis/40oKW22ZNNkEdZLJTScaQI   \n",
              "1512   https://api.spotify.com/v1/audio-analysis/75GQIYnRaBg7ndHxhfYuQy   \n",
              "1518   https://api.spotify.com/v1/audio-analysis/7Dm3dV3WPNdTgxoNY7YFnc   \n",
              "\n",
              "       duration_ms  time_signature  \n",
              "10393     237040.0             4.0  \n",
              "319       177667.0             4.0  \n",
              "682       192067.0             4.0  \n",
              "695       176387.0             4.0  \n",
              "1313      256707.0             4.0  \n",
              "1479      291800.0             4.0  \n",
              "1506      220079.0             4.0  \n",
              "1510      213132.0             4.0  \n",
              "1512      205347.0             4.0  \n",
              "1518      269813.0             4.0  "
            ]
          },
          "metadata": {
            "tags": []
          },
          "execution_count": 145
        }
      ]
    },
    {
      "cell_type": "code",
      "metadata": {
        "id": "36wji7sMqHmJ"
      },
      "source": [
        "df_storedTracksData, df_notStoredTracksDataNew = prepare_data_dataframe(df_storedTracksComplete, df_notStoredTracksCompleteNew)"
      ],
      "execution_count": null,
      "outputs": []
    },
    {
      "cell_type": "code",
      "metadata": {
        "id": "CgAW6ozbqdxP"
      },
      "source": [
        "df_notStoredTracksDataNewReduced_seven = df_notStoredTracksDataNew.drop(['key', 'mode', 'loudness', 'tempo', 'duration_ms', 'time_signature'], axis=1)\n",
        "df_notStoredTracksDataNewReduced_seven = df_notStoredTracksDataNewReduced_seven.drop_duplicates()"
      ],
      "execution_count": null,
      "outputs": []
    }
  ]
}